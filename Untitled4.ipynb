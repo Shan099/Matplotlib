{
 "cells": [
  {
   "cell_type": "code",
   "execution_count": 2,
   "id": "73af8bfc",
   "metadata": {},
   "outputs": [],
   "source": [
    "joy=['toy',1,5,7]"
   ]
  },
  {
   "cell_type": "code",
   "execution_count": null,
   "id": "80ce8c14",
   "metadata": {},
   "outputs": [],
   "source": []
  },
  {
   "cell_type": "code",
   "execution_count": null,
   "id": "e39f990a",
   "metadata": {},
   "outputs": [],
   "source": []
  },
  {
   "cell_type": "code",
   "execution_count": null,
   "id": "0ced807b",
   "metadata": {},
   "outputs": [],
   "source": []
  },
  {
   "cell_type": "code",
   "execution_count": 4,
   "id": "eb401973",
   "metadata": {},
   "outputs": [],
   "source": [
    "joy.append(65)"
   ]
  },
  {
   "cell_type": "code",
   "execution_count": 5,
   "id": "73db3cc6",
   "metadata": {},
   "outputs": [
    {
     "name": "stdout",
     "output_type": "stream",
     "text": [
      "['toy', 1, 5, 7, 65, 65]\n"
     ]
    }
   ],
   "source": [
    "print(joy)"
   ]
  },
  {
   "cell_type": "code",
   "execution_count": 9,
   "id": "ff974046",
   "metadata": {},
   "outputs": [
    {
     "data": {
      "text/plain": [
       "'toy'"
      ]
     },
     "execution_count": 9,
     "metadata": {},
     "output_type": "execute_result"
    }
   ],
   "source": [
    "joy[0]"
   ]
  },
  {
   "cell_type": "code",
   "execution_count": 10,
   "id": "451dd633",
   "metadata": {},
   "outputs": [],
   "source": [
    "joy.insert(5,'pagalpanti')"
   ]
  },
  {
   "cell_type": "code",
   "execution_count": 11,
   "id": "3a648103",
   "metadata": {},
   "outputs": [
    {
     "name": "stdout",
     "output_type": "stream",
     "text": [
      "['toy', 1, 5, 7, 65, 'pagalpanti', 65]\n"
     ]
    }
   ],
   "source": [
    "print(joy)"
   ]
  },
  {
   "cell_type": "code",
   "execution_count": 12,
   "id": "2c1c86a2",
   "metadata": {},
   "outputs": [],
   "source": [
    "joy.append([5,6])"
   ]
  },
  {
   "cell_type": "code",
   "execution_count": 13,
   "id": "3a9fe6ea",
   "metadata": {},
   "outputs": [
    {
     "name": "stdout",
     "output_type": "stream",
     "text": [
      "['toy', 1, 5, 7, 65, 'pagalpanti', 65, [5, 6]]\n"
     ]
    }
   ],
   "source": [
    "print(joy)"
   ]
  },
  {
   "cell_type": "code",
   "execution_count": 14,
   "id": "5062fd6d",
   "metadata": {},
   "outputs": [],
   "source": [
    "joy.extend([4,8])"
   ]
  },
  {
   "cell_type": "code",
   "execution_count": 15,
   "id": "7fc5e25a",
   "metadata": {},
   "outputs": [
    {
     "name": "stdout",
     "output_type": "stream",
     "text": [
      "['toy', 1, 5, 7, 65, 'pagalpanti', 65, [5, 6], 4, 8]\n"
     ]
    }
   ],
   "source": [
    "print(joy)"
   ]
  },
  {
   "cell_type": "code",
   "execution_count": 11,
   "id": "cc1242a4",
   "metadata": {},
   "outputs": [],
   "source": [
    "yoj = [4,8,8,7,63,4]"
   ]
  },
  {
   "cell_type": "code",
   "execution_count": 18,
   "id": "cf7ab57e",
   "metadata": {},
   "outputs": [
    {
     "data": {
      "text/plain": [
       "94"
      ]
     },
     "execution_count": 18,
     "metadata": {},
     "output_type": "execute_result"
    }
   ],
   "source": [
    "sum(yoj)"
   ]
  },
  {
   "cell_type": "code",
   "execution_count": 19,
   "id": "72dc80fd",
   "metadata": {},
   "outputs": [
    {
     "data": {
      "text/plain": [
       "0"
      ]
     },
     "execution_count": 19,
     "metadata": {},
     "output_type": "execute_result"
    }
   ],
   "source": [
    "yoj.count(1)"
   ]
  },
  {
   "cell_type": "code",
   "execution_count": 9,
   "id": "45f14123",
   "metadata": {},
   "outputs": [
    {
     "data": {
      "text/plain": [
       "4"
      ]
     },
     "execution_count": 9,
     "metadata": {},
     "output_type": "execute_result"
    }
   ],
   "source": [
    "yoj.pop()"
   ]
  },
  {
   "cell_type": "code",
   "execution_count": 12,
   "id": "705942d8",
   "metadata": {},
   "outputs": [
    {
     "data": {
      "text/plain": [
       "[4, 8, 8, 7, 63, 4]"
      ]
     },
     "execution_count": 12,
     "metadata": {},
     "output_type": "execute_result"
    }
   ],
   "source": [
    "yoj"
   ]
  },
  {
   "cell_type": "code",
   "execution_count": 8,
   "id": "82784232",
   "metadata": {},
   "outputs": [
    {
     "data": {
      "text/plain": [
       "3"
      ]
     },
     "execution_count": 8,
     "metadata": {},
     "output_type": "execute_result"
    }
   ],
   "source": [
    "yoj.index(7,0,6)"
   ]
  },
  {
   "cell_type": "code",
   "execution_count": 21,
   "id": "d6a8951d",
   "metadata": {},
   "outputs": [
    {
     "data": {
      "text/plain": [
       "[4, 8, 8, 7, 63, 4, 4, 8, 8, 7, 63, 4]"
      ]
     },
     "execution_count": 21,
     "metadata": {},
     "output_type": "execute_result"
    }
   ],
   "source": [
    "yoj*2"
   ]
  },
  {
   "cell_type": "code",
   "execution_count": 22,
   "id": "724c3ab1",
   "metadata": {},
   "outputs": [],
   "source": [
    "uou={1,2,3,4,5,1}"
   ]
  },
  {
   "cell_type": "code",
   "execution_count": 44,
   "id": "9d8d227d",
   "metadata": {},
   "outputs": [
    {
     "name": "stdout",
     "output_type": "stream",
     "text": [
      "set()\n"
     ]
    }
   ],
   "source": [
    "print(uou)"
   ]
  },
  {
   "cell_type": "code",
   "execution_count": 24,
   "id": "8b610250",
   "metadata": {},
   "outputs": [
    {
     "data": {
      "text/plain": [
       "set"
      ]
     },
     "execution_count": 24,
     "metadata": {},
     "output_type": "execute_result"
    }
   ],
   "source": [
    "type(uou)"
   ]
  },
  {
   "cell_type": "code",
   "execution_count": 45,
   "id": "da1efa92",
   "metadata": {},
   "outputs": [],
   "source": [
    "uou.add(55)"
   ]
  },
  {
   "cell_type": "code",
   "execution_count": 49,
   "id": "03a82b27",
   "metadata": {},
   "outputs": [
    {
     "data": {
      "text/plain": [
       "{1, 3, 5}"
      ]
     },
     "execution_count": 49,
     "metadata": {},
     "output_type": "execute_result"
    }
   ],
   "source": [
    "tou={1,2,3,5,9}\n",
    "go={1,5,6,3}\n",
    "tou.intersection(go)"
   ]
  },
  {
   "cell_type": "code",
   "execution_count": 50,
   "id": "c64a7d3d",
   "metadata": {},
   "outputs": [
    {
     "name": "stdout",
     "output_type": "stream",
     "text": [
      "{1, 2, 3, 5, 9}\n"
     ]
    }
   ],
   "source": [
    "print(tou)"
   ]
  },
  {
   "cell_type": "code",
   "execution_count": 52,
   "id": "8ce62ad8",
   "metadata": {},
   "outputs": [],
   "source": [
    "tou.intersection_update(go)"
   ]
  },
  {
   "cell_type": "code",
   "execution_count": 53,
   "id": "3a064f85",
   "metadata": {},
   "outputs": [
    {
     "name": "stdout",
     "output_type": "stream",
     "text": [
      "{1, 3, 5}\n"
     ]
    }
   ],
   "source": [
    "print(tou)"
   ]
  },
  {
   "cell_type": "code",
   "execution_count": 28,
   "id": "b075aacb",
   "metadata": {},
   "outputs": [
    {
     "data": {
      "text/plain": [
       "dict"
      ]
     },
     "execution_count": 28,
     "metadata": {},
     "output_type": "execute_result"
    }
   ],
   "source": [
    "ooo = {'ttt': 'joy', 'ttt1' : 'toy' , 'ttt2' : 'boy'}\n",
    "type(ooo)"
   ]
  },
  {
   "cell_type": "code",
   "execution_count": 34,
   "id": "a6723c84",
   "metadata": {},
   "outputs": [
    {
     "name": "stdout",
     "output_type": "stream",
     "text": [
      "[1, 5, 3, 8]\n"
     ]
    }
   ],
   "source": [
    "p=list(ooo)\n",
    "g=p[0]\n",
    "print(ttt\n",
    "     )"
   ]
  },
  {
   "cell_type": "code",
   "execution_count": 56,
   "id": "409ff532",
   "metadata": {},
   "outputs": [],
   "source": [
    "ooo['ttt3'] = 'soy'"
   ]
  },
  {
   "cell_type": "code",
   "execution_count": 57,
   "id": "b16e56d4",
   "metadata": {},
   "outputs": [
    {
     "name": "stdout",
     "output_type": "stream",
     "text": [
      "{'ttt': 'joy', 'ttt1': 'toy', 'ttt2': 'boy', 'ttt3': 'soy'}\n"
     ]
    }
   ],
   "source": [
    "print(ooo)"
   ]
  },
  {
   "cell_type": "code",
   "execution_count": 59,
   "id": "753649f9",
   "metadata": {},
   "outputs": [
    {
     "name": "stdout",
     "output_type": "stream",
     "text": [
      "{'ttt': 'hoy', 'ttt1': 'toy', 'ttt2': 'boy', 'ttt3': 'soy'}\n"
     ]
    }
   ],
   "source": [
    "ooo['ttt']='hoy'\n",
    "print(ooo)"
   ]
  },
  {
   "cell_type": "code",
   "execution_count": 80,
   "id": "4c21330c",
   "metadata": {},
   "outputs": [
    {
     "ename": "TypeError",
     "evalue": "unhashable type: 'dict'",
     "output_type": "error",
     "traceback": [
      "\u001b[1;31m---------------------------------------------------------------------------\u001b[0m",
      "\u001b[1;31mTypeError\u001b[0m                                 Traceback (most recent call last)",
      "Input \u001b[1;32mIn [80]\u001b[0m, in \u001b[0;36m<cell line: 4>\u001b[1;34m()\u001b[0m\n\u001b[0;32m      2\u001b[0m ooo1\u001b[38;5;241m=\u001b[39m {\u001b[38;5;124m'\u001b[39m\u001b[38;5;124mttt1\u001b[39m\u001b[38;5;124m'\u001b[39m: \u001b[38;5;124m'\u001b[39m\u001b[38;5;124mtoy\u001b[39m\u001b[38;5;124m'\u001b[39m}\n\u001b[0;32m      3\u001b[0m ooo2\u001b[38;5;241m=\u001b[39m{\u001b[38;5;124m'\u001b[39m\u001b[38;5;124mttt2\u001b[39m\u001b[38;5;124m'\u001b[39m: \u001b[38;5;124m'\u001b[39m\u001b[38;5;124mboy\u001b[39m\u001b[38;5;124m'\u001b[39m}\n\u001b[1;32m----> 4\u001b[0m hood\u001b[38;5;241m=\u001b[39m{ooo: \u001b[38;5;124m'\u001b[39m\u001b[38;5;124mhood1\u001b[39m\u001b[38;5;124m'\u001b[39m, ooo1: \u001b[38;5;124m'\u001b[39m\u001b[38;5;124mhood2\u001b[39m\u001b[38;5;124m'\u001b[39m , ooo2: \u001b[38;5;124m'\u001b[39m\u001b[38;5;124mhood3\u001b[39m\u001b[38;5;124m'\u001b[39m}\n",
      "\u001b[1;31mTypeError\u001b[0m: unhashable type: 'dict'"
     ]
    }
   ],
   "source": [
    "ooo = {'ttt': 'joy'}\n",
    "ooo1= {'ttt1' : 'toy'}\n",
    "ooo2={'ttt2': 'boy'}\n",
    "hood={ooo: 'hood1', ooo1: 'hood2' , ooo2: 'hood3'}"
   ]
  },
  {
   "cell_type": "code",
   "execution_count": 73,
   "id": "3a723b7b",
   "metadata": {},
   "outputs": [
    {
     "name": "stdout",
     "output_type": "stream",
     "text": [
      "{'ooo': 'hood1', 'ooo1': 'hood2', 'ooo2': 'hood3'}\n"
     ]
    }
   ],
   "source": [
    "print(hood)"
   ]
  },
  {
   "cell_type": "code",
   "execution_count": 6,
   "id": "ccb4a3ef",
   "metadata": {},
   "outputs": [
    {
     "name": "stdout",
     "output_type": "stream",
     "text": [
      "{'hood1': {'ttt': 'joy'}, 'hood2': {'ttt1': 'toy'}, 'hood3': {'ttt2': 'boy'}}\n"
     ]
    }
   ],
   "source": [
    "ooo = {'ttt': 'joy'}\n",
    "ooo1= {'ttt1' : 'toy'}\n",
    "ooo2={'ttt2': 'boy'}\n",
    "hood={'hood1': ooo, 'hood2': ooo1 , 'hood3': ooo2}\n",
    "print(hood)"
   ]
  },
  {
   "cell_type": "code",
   "execution_count": 12,
   "id": "cd576e00",
   "metadata": {},
   "outputs": [
    {
     "name": "stdout",
     "output_type": "stream",
     "text": [
      "joy\n"
     ]
    }
   ],
   "source": [
    "print(hood['hood1'] ['ttt'])"
   ]
  },
  {
   "cell_type": "code",
   "execution_count": 18,
   "id": "67d977cc",
   "metadata": {},
   "outputs": [
    {
     "name": "stdout",
     "output_type": "stream",
     "text": [
      "{'h': {'b': 'c'}, 'i': {'e': 'f'}}\n",
      "c\n"
     ]
    }
   ],
   "source": [
    "a={'b':'c'}\n",
    "d={'e':'f'}\n",
    "g={'h':a,'i':d}\n",
    "print(g)\n",
    "print(g['h']['b'])"
   ]
  },
  {
   "cell_type": "code",
   "execution_count": null,
   "id": "5fea808b",
   "metadata": {},
   "outputs": [],
   "source": []
  },
  {
   "cell_type": "code",
   "execution_count": null,
   "id": "2be220c7",
   "metadata": {},
   "outputs": [],
   "source": []
  },
  {
   "cell_type": "code",
   "execution_count": 29,
   "id": "524cfe0f",
   "metadata": {},
   "outputs": [
    {
     "name": "stdout",
     "output_type": "stream",
     "text": [
      "{1, 2, 3, 4, 5, 55}\n"
     ]
    }
   ],
   "source": [
    "print(uou)"
   ]
  },
  {
   "cell_type": "code",
   "execution_count": 31,
   "id": "58623d63",
   "metadata": {},
   "outputs": [],
   "source": [
    "yoy={3,4,1}"
   ]
  },
  {
   "cell_type": "code",
   "execution_count": 32,
   "id": "91858298",
   "metadata": {},
   "outputs": [
    {
     "data": {
      "text/plain": [
       "{2, 5, 55}"
      ]
     },
     "execution_count": 32,
     "metadata": {},
     "output_type": "execute_result"
    }
   ],
   "source": [
    "uou.difference(yoy)"
   ]
  },
  {
   "cell_type": "code",
   "execution_count": 43,
   "id": "0ee3039f",
   "metadata": {},
   "outputs": [
    {
     "name": "stdout",
     "output_type": "stream",
     "text": [
      "set()\n"
     ]
    },
    {
     "data": {
      "text/plain": [
       "set()"
      ]
     },
     "execution_count": 43,
     "metadata": {},
     "output_type": "execute_result"
    }
   ],
   "source": [
    "print(uou)\n",
    "uou.intersection(yoy)"
   ]
  },
  {
   "cell_type": "code",
   "execution_count": 38,
   "id": "e472671f",
   "metadata": {},
   "outputs": [
    {
     "name": "stdout",
     "output_type": "stream",
     "text": [
      "{2, 5, 55}\n"
     ]
    }
   ],
   "source": [
    "print(uou)"
   ]
  },
  {
   "cell_type": "code",
   "execution_count": 2,
   "id": "1edc1303",
   "metadata": {},
   "outputs": [
    {
     "name": "stdout",
     "output_type": "stream",
     "text": [
      "a\n"
     ]
    }
   ],
   "source": [
    "x='a'\n",
    "print(x)"
   ]
  },
  {
   "cell_type": "code",
   "execution_count": 121,
   "id": "9585284b",
   "metadata": {},
   "outputs": [],
   "source": [
    "import numpy as np"
   ]
  },
  {
   "cell_type": "code",
   "execution_count": 9,
   "id": "1991604f",
   "metadata": {},
   "outputs": [
    {
     "data": {
      "text/plain": [
       "array([1, 2, 3, 4])"
      ]
     },
     "execution_count": 9,
     "metadata": {},
     "output_type": "execute_result"
    }
   ],
   "source": [
    "joy=[1,2,3,4]\n",
    "yoj=np.array(joy)\n",
    "type(yoj)\n",
    "yoj"
   ]
  },
  {
   "cell_type": "code",
   "execution_count": 13,
   "id": "b265fb16",
   "metadata": {},
   "outputs": [
    {
     "data": {
      "text/plain": [
       "(4,)"
      ]
     },
     "execution_count": 13,
     "metadata": {},
     "output_type": "execute_result"
    }
   ],
   "source": [
    "yoj.shape"
   ]
  },
  {
   "cell_type": "code",
   "execution_count": 15,
   "id": "1d61f0ca",
   "metadata": {},
   "outputs": [
    {
     "data": {
      "text/plain": [
       "array([[1, 2, 3, 5],\n",
       "       [1, 5, 3, 8],\n",
       "       [5, 6, 4, 2]])"
      ]
     },
     "execution_count": 15,
     "metadata": {},
     "output_type": "execute_result"
    }
   ],
   "source": [
    "poo=[1,2,3,5]\n",
    "ttt=[1,5,3,8]\n",
    "yyy=[5,6,4,2]\n",
    "yod=np.array([poo,ttt,yyy])\n",
    "yod"
   ]
  },
  {
   "cell_type": "code",
   "execution_count": 16,
   "id": "69ae7b5f",
   "metadata": {},
   "outputs": [
    {
     "data": {
      "text/plain": [
       "(3, 4)"
      ]
     },
     "execution_count": 16,
     "metadata": {},
     "output_type": "execute_result"
    }
   ],
   "source": [
    "yod.shape"
   ]
  },
  {
   "cell_type": "code",
   "execution_count": 14,
   "id": "031453a9",
   "metadata": {},
   "outputs": [
    {
     "data": {
      "text/plain": [
       "array([[1, 2, 3, 5],\n",
       "       [1, 5, 3, 8],\n",
       "       [5, 6, 4, 2]])"
      ]
     },
     "execution_count": 14,
     "metadata": {},
     "output_type": "execute_result"
    }
   ],
   "source": [
    "poo=[1,2,3,5]\n",
    "ttt=[1,5,3,8]\n",
    "yyy=[5,6,4,2]\n",
    "yod=np.array([poo,ttt,yyy])\n",
    "yod"
   ]
  },
  {
   "cell_type": "code",
   "execution_count": 17,
   "id": "f2f2f063",
   "metadata": {},
   "outputs": [
    {
     "data": {
      "text/plain": [
       "(3, 4)"
      ]
     },
     "execution_count": 17,
     "metadata": {},
     "output_type": "execute_result"
    }
   ],
   "source": [
    "yod.shape"
   ]
  },
  {
   "cell_type": "code",
   "execution_count": 20,
   "id": "9fd62713",
   "metadata": {},
   "outputs": [
    {
     "data": {
      "text/plain": [
       "array([[1, 2, 3],\n",
       "       [5, 1, 5],\n",
       "       [3, 8, 5],\n",
       "       [6, 4, 2]])"
      ]
     },
     "execution_count": 20,
     "metadata": {},
     "output_type": "execute_result"
    }
   ],
   "source": [
    "yod.reshape(4,3)"
   ]
  },
  {
   "cell_type": "code",
   "execution_count": 21,
   "id": "4c6fe829",
   "metadata": {},
   "outputs": [],
   "source": [
    "arr=np.array([1,2,3,4,5,6])"
   ]
  },
  {
   "cell_type": "code",
   "execution_count": 24,
   "id": "73f4fd54",
   "metadata": {},
   "outputs": [
    {
     "data": {
      "text/plain": [
       "array([[1, 2],\n",
       "       [3, 4],\n",
       "       [5, 6]])"
      ]
     },
     "execution_count": 24,
     "metadata": {},
     "output_type": "execute_result"
    }
   ],
   "source": [
    "arr.reshape(3,2)"
   ]
  },
  {
   "cell_type": "code",
   "execution_count": 25,
   "id": "b72f27a5",
   "metadata": {},
   "outputs": [
    {
     "data": {
      "text/plain": [
       "3"
      ]
     },
     "execution_count": 25,
     "metadata": {},
     "output_type": "execute_result"
    }
   ],
   "source": [
    "arr[2]"
   ]
  },
  {
   "cell_type": "code",
   "execution_count": 26,
   "id": "1f7a8c24",
   "metadata": {},
   "outputs": [
    {
     "data": {
      "text/plain": [
       "array([1, 2, 3, 4, 5, 6])"
      ]
     },
     "execution_count": 26,
     "metadata": {},
     "output_type": "execute_result"
    }
   ],
   "source": [
    "arr"
   ]
  },
  {
   "cell_type": "code",
   "execution_count": 27,
   "id": "5e1acd12",
   "metadata": {},
   "outputs": [
    {
     "data": {
      "text/plain": [
       "array([[1, 2, 3, 5],\n",
       "       [1, 5, 3, 8],\n",
       "       [5, 6, 4, 2]])"
      ]
     },
     "execution_count": 27,
     "metadata": {},
     "output_type": "execute_result"
    }
   ],
   "source": [
    "yod"
   ]
  },
  {
   "cell_type": "code",
   "execution_count": 35,
   "id": "755e22aa",
   "metadata": {},
   "outputs": [
    {
     "data": {
      "text/plain": [
       "array([[1, 2],\n",
       "       [1, 5]])"
      ]
     },
     "execution_count": 35,
     "metadata": {},
     "output_type": "execute_result"
    }
   ],
   "source": [
    "yod[0:2,0:2]"
   ]
  },
  {
   "cell_type": "code",
   "execution_count": 36,
   "id": "8feb0fe0",
   "metadata": {},
   "outputs": [
    {
     "data": {
      "text/plain": [
       "array([[3, 8],\n",
       "       [4, 2]])"
      ]
     },
     "execution_count": 36,
     "metadata": {},
     "output_type": "execute_result"
    }
   ],
   "source": [
    "yod[1:,2:4]"
   ]
  },
  {
   "cell_type": "code",
   "execution_count": 38,
   "id": "7dd3daef",
   "metadata": {},
   "outputs": [
    {
     "data": {
      "text/plain": [
       "array([ 0,  1,  2,  3,  4,  5,  6,  7,  8,  9, 10, 11, 12, 13, 14, 15, 16,\n",
       "       17, 18, 19, 20, 21])"
      ]
     },
     "execution_count": 38,
     "metadata": {},
     "output_type": "execute_result"
    }
   ],
   "source": [
    "joy=np.arange(0,22)\n",
    "joy"
   ]
  },
  {
   "cell_type": "code",
   "execution_count": 40,
   "id": "baf15f9a",
   "metadata": {},
   "outputs": [],
   "source": [
    "joy=np.linspace(1,10,50)"
   ]
  },
  {
   "cell_type": "code",
   "execution_count": 42,
   "id": "0509bada",
   "metadata": {},
   "outputs": [
    {
     "data": {
      "text/plain": [
       "array([ 1.        ,  1.18367347,  1.36734694,  1.55102041,  1.73469388,\n",
       "        1.91836735,  2.10204082,  2.28571429,  2.46938776,  2.65306122,\n",
       "        2.83673469,  3.02040816,  3.20408163,  3.3877551 ,  3.57142857,\n",
       "        3.75510204,  3.93877551,  4.12244898,  4.30612245,  4.48979592,\n",
       "        4.67346939,  4.85714286,  5.04081633,  5.2244898 ,  5.40816327,\n",
       "        5.59183673,  5.7755102 ,  5.95918367,  6.14285714,  6.32653061,\n",
       "        6.51020408,  6.69387755,  6.87755102,  7.06122449,  7.24489796,\n",
       "        7.42857143,  7.6122449 ,  7.79591837,  7.97959184,  8.16326531,\n",
       "        8.34693878,  8.53061224,  8.71428571,  8.89795918,  9.08163265,\n",
       "        9.26530612,  9.44897959,  9.63265306,  9.81632653, 10.        ])"
      ]
     },
     "execution_count": 42,
     "metadata": {},
     "output_type": "execute_result"
    }
   ],
   "source": [
    "np.linspace(1,10,50)"
   ]
  },
  {
   "cell_type": "code",
   "execution_count": 46,
   "id": "c33773fe",
   "metadata": {},
   "outputs": [
    {
     "data": {
      "text/plain": [
       "array([500., 500., 500., 500., 500., 500., 500., 500., 500., 500., 500.,\n",
       "       500., 500., 500., 500., 500., 500., 500., 500., 500., 500., 500.,\n",
       "       500., 500., 500., 500., 500., 500., 500., 500., 500., 500., 500.,\n",
       "       500., 500., 500., 500., 500., 500., 500., 500., 500., 500., 500.,\n",
       "       500., 500., 500., 500., 500., 500.])"
      ]
     },
     "execution_count": 46,
     "metadata": {},
     "output_type": "execute_result"
    }
   ],
   "source": [
    "joy[0:3,]=500\n",
    "joy"
   ]
  },
  {
   "cell_type": "code",
   "execution_count": 4,
   "id": "0c2dc756",
   "metadata": {},
   "outputs": [
    {
     "data": {
      "text/plain": [
       "array([  1,   2,   3, 100, 100, 100, 100, 100])"
      ]
     },
     "execution_count": 4,
     "metadata": {},
     "output_type": "execute_result"
    }
   ],
   "source": [
    "tty=np.arange(1,9)\n",
    "tty[3:]=100\n",
    "tty"
   ]
  },
  {
   "cell_type": "code",
   "execution_count": 59,
   "id": "278cd062",
   "metadata": {},
   "outputs": [
    {
     "data": {
      "text/plain": [
       "array([  1,   2,   3, 500, 500, 500, 500, 500])"
      ]
     },
     "execution_count": 59,
     "metadata": {},
     "output_type": "execute_result"
    }
   ],
   "source": [
    "tty1=tty\n",
    "tty1[3:]=500\n",
    "tty1"
   ]
  },
  {
   "cell_type": "code",
   "execution_count": 66,
   "id": "9f35eb6d",
   "metadata": {},
   "outputs": [
    {
     "name": "stdout",
     "output_type": "stream",
     "text": [
      "[  1   2 200 200 200 200 200 200]\n",
      "[   1    2 1000 1000 1000 1000 1000 1000]\n",
      "[  1   2 200 200 200 200 200 200]\n",
      "[  1   2 200 200 200 200 200 200]\n"
     ]
    }
   ],
   "source": [
    "tty1=tty.copy()\n",
    "print(tty)\n",
    "tty1[2:]=1000\n",
    "print(tty1)\n",
    "print(tty)\n",
    "tty[2:]=200\n",
    "print(tty)"
   ]
  },
  {
   "cell_type": "code",
   "execution_count": 12,
   "id": "c94f28b5",
   "metadata": {},
   "outputs": [
    {
     "data": {
      "text/plain": [
       "array([[1., 1., 1., 1., 1.],\n",
       "       [1., 1., 1., 1., 1.]])"
      ]
     },
     "execution_count": 12,
     "metadata": {},
     "output_type": "execute_result"
    }
   ],
   "source": [
    "np.ones((2,5))"
   ]
  },
  {
   "cell_type": "code",
   "execution_count": 3,
   "id": "018a561f",
   "metadata": {},
   "outputs": [],
   "source": [
    "import pandas as pd\n",
    "import numpy as np"
   ]
  },
  {
   "cell_type": "code",
   "execution_count": null,
   "id": "816b87b3",
   "metadata": {},
   "outputs": [],
   "source": []
  },
  {
   "cell_type": "code",
   "execution_count": null,
   "id": "e8ac7135",
   "metadata": {},
   "outputs": [],
   "source": []
  },
  {
   "cell_type": "code",
   "execution_count": null,
   "id": "740b4915",
   "metadata": {},
   "outputs": [],
   "source": []
  },
  {
   "cell_type": "code",
   "execution_count": null,
   "id": "03df011f",
   "metadata": {},
   "outputs": [],
   "source": []
  },
  {
   "cell_type": "code",
   "execution_count": null,
   "id": "83d4e2d8",
   "metadata": {},
   "outputs": [],
   "source": []
  },
  {
   "cell_type": "code",
   "execution_count": null,
   "id": "0ff4e52a",
   "metadata": {},
   "outputs": [],
   "source": []
  },
  {
   "cell_type": "code",
   "execution_count": null,
   "id": "4aace675",
   "metadata": {},
   "outputs": [],
   "source": []
  },
  {
   "cell_type": "code",
   "execution_count": 38,
   "id": "5017c6cc",
   "metadata": {},
   "outputs": [
    {
     "ename": "SyntaxError",
     "evalue": "cannot assign to function call (4244041360.py, line 1)",
     "output_type": "error",
     "traceback": [
      "\u001b[1;36m  Input \u001b[1;32mIn [38]\u001b[1;36m\u001b[0m\n\u001b[1;33m    df=pd.Dataframe(np.arange(0,6).reshape(3,2),index=['Joy1','Joy2','Joy3']),columns=['Toy1',\"Toy2\"])\u001b[0m\n\u001b[1;37m       ^\u001b[0m\n\u001b[1;31mSyntaxError\u001b[0m\u001b[1;31m:\u001b[0m cannot assign to function call\n"
     ]
    }
   ],
   "source": [
    "df=pd.Dataframe(np.arange(0,6).reshape(3,2),index=['Joy1','Joy2','Joy3']),columns=['Toy1',\"Toy2\"])"
   ]
  },
  {
   "cell_type": "code",
   "execution_count": 6,
   "id": "36501427",
   "metadata": {},
   "outputs": [
    {
     "data": {
      "text/plain": [
       "pandas.core.frame.DataFrame"
      ]
     },
     "execution_count": 6,
     "metadata": {},
     "output_type": "execute_result"
    }
   ],
   "source": [
    "jpoy=pd.DataFrame(np.arange(0,6).reshape(3,2),index=['Joy1','Joy2','Joy3'],columns=[\"Toy1\",\"Toy2\"])\n",
    "type(jpoy)\n",
    "joy."
   ]
  },
  {
   "cell_type": "code",
   "execution_count": 7,
   "id": "999b2b4d",
   "metadata": {},
   "outputs": [],
   "source": [
    "df=pd.DataFrame(np.arange(0,20).reshape(5,4),index=['Row1','Row2','Row3','Row4','Row5'],columns=[\"column1\",\"column2\",\"column3\",\"column4\"])"
   ]
  },
  {
   "cell_type": "code",
   "execution_count": 8,
   "id": "db91f3aa",
   "metadata": {},
   "outputs": [
    {
     "data": {
      "text/html": [
       "<div>\n",
       "<style scoped>\n",
       "    .dataframe tbody tr th:only-of-type {\n",
       "        vertical-align: middle;\n",
       "    }\n",
       "\n",
       "    .dataframe tbody tr th {\n",
       "        vertical-align: top;\n",
       "    }\n",
       "\n",
       "    .dataframe thead th {\n",
       "        text-align: right;\n",
       "    }\n",
       "</style>\n",
       "<table border=\"1\" class=\"dataframe\">\n",
       "  <thead>\n",
       "    <tr style=\"text-align: right;\">\n",
       "      <th></th>\n",
       "      <th>column1</th>\n",
       "      <th>column2</th>\n",
       "      <th>column3</th>\n",
       "      <th>column4</th>\n",
       "    </tr>\n",
       "  </thead>\n",
       "  <tbody>\n",
       "    <tr>\n",
       "      <th>Row1</th>\n",
       "      <td>0</td>\n",
       "      <td>1</td>\n",
       "      <td>2</td>\n",
       "      <td>3</td>\n",
       "    </tr>\n",
       "    <tr>\n",
       "      <th>Row2</th>\n",
       "      <td>4</td>\n",
       "      <td>5</td>\n",
       "      <td>6</td>\n",
       "      <td>7</td>\n",
       "    </tr>\n",
       "    <tr>\n",
       "      <th>Row3</th>\n",
       "      <td>8</td>\n",
       "      <td>9</td>\n",
       "      <td>10</td>\n",
       "      <td>11</td>\n",
       "    </tr>\n",
       "    <tr>\n",
       "      <th>Row4</th>\n",
       "      <td>12</td>\n",
       "      <td>13</td>\n",
       "      <td>14</td>\n",
       "      <td>15</td>\n",
       "    </tr>\n",
       "    <tr>\n",
       "      <th>Row5</th>\n",
       "      <td>16</td>\n",
       "      <td>17</td>\n",
       "      <td>18</td>\n",
       "      <td>19</td>\n",
       "    </tr>\n",
       "  </tbody>\n",
       "</table>\n",
       "</div>"
      ],
      "text/plain": [
       "      column1  column2  column3  column4\n",
       "Row1        0        1        2        3\n",
       "Row2        4        5        6        7\n",
       "Row3        8        9       10       11\n",
       "Row4       12       13       14       15\n",
       "Row5       16       17       18       19"
      ]
     },
     "execution_count": 8,
     "metadata": {},
     "output_type": "execute_result"
    }
   ],
   "source": [
    "df"
   ]
  },
  {
   "cell_type": "code",
   "execution_count": 15,
   "id": "e6b17988",
   "metadata": {},
   "outputs": [],
   "source": [
    "joy=pd.DataFrame(np.arange(0,6).reshape(3,2),index=['Joy1','Joy2','Joy3'],columns=[\"Toy1\",\"Toy2\"])"
   ]
  },
  {
   "cell_type": "code",
   "execution_count": 59,
   "id": "cdd4b73d",
   "metadata": {},
   "outputs": [
    {
     "data": {
      "text/html": [
       "<div>\n",
       "<style scoped>\n",
       "    .dataframe tbody tr th:only-of-type {\n",
       "        vertical-align: middle;\n",
       "    }\n",
       "\n",
       "    .dataframe tbody tr th {\n",
       "        vertical-align: top;\n",
       "    }\n",
       "\n",
       "    .dataframe thead th {\n",
       "        text-align: right;\n",
       "    }\n",
       "</style>\n",
       "<table border=\"1\" class=\"dataframe\">\n",
       "  <thead>\n",
       "    <tr style=\"text-align: right;\">\n",
       "      <th></th>\n",
       "      <th>Toy1</th>\n",
       "      <th>Toy2</th>\n",
       "    </tr>\n",
       "  </thead>\n",
       "  <tbody>\n",
       "    <tr>\n",
       "      <th>Joy1</th>\n",
       "      <td>0</td>\n",
       "      <td>1</td>\n",
       "    </tr>\n",
       "    <tr>\n",
       "      <th>Joy2</th>\n",
       "      <td>2</td>\n",
       "      <td>3</td>\n",
       "    </tr>\n",
       "    <tr>\n",
       "      <th>Joy3</th>\n",
       "      <td>4</td>\n",
       "      <td>5</td>\n",
       "    </tr>\n",
       "  </tbody>\n",
       "</table>\n",
       "</div>"
      ],
      "text/plain": [
       "      Toy1  Toy2\n",
       "Joy1     0     1\n",
       "Joy2     2     3\n",
       "Joy3     4     5"
      ]
     },
     "execution_count": 59,
     "metadata": {},
     "output_type": "execute_result"
    }
   ],
   "source": [
    "joy.head()"
   ]
  },
  {
   "cell_type": "code",
   "execution_count": 62,
   "id": "1b40b35e",
   "metadata": {},
   "outputs": [],
   "source": [
    "joy.to_csv('Joy')"
   ]
  },
  {
   "cell_type": "code",
   "execution_count": 14,
   "id": "0cc0c1fa",
   "metadata": {},
   "outputs": [
    {
     "ename": "NameError",
     "evalue": "name 'joy' is not defined",
     "output_type": "error",
     "traceback": [
      "\u001b[1;31m---------------------------------------------------------------------------\u001b[0m",
      "\u001b[1;31mNameError\u001b[0m                                 Traceback (most recent call last)",
      "Input \u001b[1;32mIn [14]\u001b[0m, in \u001b[0;36m<cell line: 1>\u001b[1;34m()\u001b[0m\n\u001b[1;32m----> 1\u001b[0m \u001b[43mjoy\u001b[49m\n",
      "\u001b[1;31mNameError\u001b[0m: name 'joy' is not defined"
     ]
    }
   ],
   "source": [
    "joy"
   ]
  },
  {
   "cell_type": "code",
   "execution_count": 16,
   "id": "bba2bda3",
   "metadata": {},
   "outputs": [
    {
     "data": {
      "text/plain": [
       "pandas.core.frame.DataFrame"
      ]
     },
     "execution_count": 16,
     "metadata": {},
     "output_type": "execute_result"
    }
   ],
   "source": [
    "type(df.iloc[3:5,2:4])"
   ]
  },
  {
   "cell_type": "code",
   "execution_count": 20,
   "id": "04259c85",
   "metadata": {},
   "outputs": [
    {
     "data": {
      "text/plain": [
       "array([[ 0,  1,  2,  3],\n",
       "       [ 4,  5,  6,  7],\n",
       "       [ 8,  9, 10, 11],\n",
       "       [12, 13, 14, 15],\n",
       "       [16, 17, 18, 19]])"
      ]
     },
     "execution_count": 20,
     "metadata": {},
     "output_type": "execute_result"
    }
   ],
   "source": [
    "df.values"
   ]
  },
  {
   "cell_type": "code",
   "execution_count": 101,
   "id": "8dbca369",
   "metadata": {},
   "outputs": [
    {
     "data": {
      "text/html": [
       "<div>\n",
       "<style scoped>\n",
       "    .dataframe tbody tr th:only-of-type {\n",
       "        vertical-align: middle;\n",
       "    }\n",
       "\n",
       "    .dataframe tbody tr th {\n",
       "        vertical-align: top;\n",
       "    }\n",
       "\n",
       "    .dataframe thead th {\n",
       "        text-align: right;\n",
       "    }\n",
       "</style>\n",
       "<table border=\"1\" class=\"dataframe\">\n",
       "  <thead>\n",
       "    <tr style=\"text-align: right;\">\n",
       "      <th></th>\n",
       "      <th>Toy1</th>\n",
       "      <th>Toy2</th>\n",
       "    </tr>\n",
       "  </thead>\n",
       "  <tbody>\n",
       "    <tr>\n",
       "      <th>Joy1</th>\n",
       "      <td>0</td>\n",
       "      <td>1</td>\n",
       "    </tr>\n",
       "    <tr>\n",
       "      <th>Joy2</th>\n",
       "      <td>2</td>\n",
       "      <td>3</td>\n",
       "    </tr>\n",
       "    <tr>\n",
       "      <th>Joy3</th>\n",
       "      <td>4</td>\n",
       "      <td>5</td>\n",
       "    </tr>\n",
       "  </tbody>\n",
       "</table>\n",
       "</div>"
      ],
      "text/plain": [
       "      Toy1  Toy2\n",
       "Joy1     0     1\n",
       "Joy2     2     3\n",
       "Joy3     4     5"
      ]
     },
     "execution_count": 101,
     "metadata": {},
     "output_type": "execute_result"
    }
   ],
   "source": [
    "joy"
   ]
  },
  {
   "cell_type": "code",
   "execution_count": 112,
   "id": "53beb521",
   "metadata": {},
   "outputs": [
    {
     "data": {
      "text/plain": [
       "'1.4.2'"
      ]
     },
     "execution_count": 112,
     "metadata": {},
     "output_type": "execute_result"
    }
   ],
   "source": [
    "pd.__version__"
   ]
  },
  {
   "cell_type": "code",
   "execution_count": 49,
   "id": "64ff546d",
   "metadata": {},
   "outputs": [],
   "source": [
    "from io import StringIO\n"
   ]
  },
  {
   "cell_type": "code",
   "execution_count": 50,
   "id": "0c4f8f6b",
   "metadata": {},
   "outputs": [],
   "source": [
    "joy=('cl2,cl2,cl3\\n'\n",
    "    'x,y,7\\n'\n",
    "    'k,i,8\\n'\n",
    "    'i,o,0')"
   ]
  },
  {
   "cell_type": "code",
   "execution_count": 51,
   "id": "77f6ad40",
   "metadata": {},
   "outputs": [
    {
     "data": {
      "text/plain": [
       "str"
      ]
     },
     "execution_count": 51,
     "metadata": {},
     "output_type": "execute_result"
    }
   ],
   "source": [
    "type(joy)"
   ]
  },
  {
   "cell_type": "code",
   "execution_count": 52,
   "id": "06e9c131",
   "metadata": {},
   "outputs": [
    {
     "data": {
      "text/plain": [
       "<_io.StringIO at 0x1c8f6a00af0>"
      ]
     },
     "execution_count": 52,
     "metadata": {},
     "output_type": "execute_result"
    }
   ],
   "source": [
    "StringIO(joy)"
   ]
  },
  {
   "cell_type": "code",
   "execution_count": 53,
   "id": "7d074662",
   "metadata": {},
   "outputs": [
    {
     "data": {
      "text/html": [
       "<div>\n",
       "<style scoped>\n",
       "    .dataframe tbody tr th:only-of-type {\n",
       "        vertical-align: middle;\n",
       "    }\n",
       "\n",
       "    .dataframe tbody tr th {\n",
       "        vertical-align: top;\n",
       "    }\n",
       "\n",
       "    .dataframe thead th {\n",
       "        text-align: right;\n",
       "    }\n",
       "</style>\n",
       "<table border=\"1\" class=\"dataframe\">\n",
       "  <thead>\n",
       "    <tr style=\"text-align: right;\">\n",
       "      <th></th>\n",
       "      <th>cl2</th>\n",
       "      <th>cl2.1</th>\n",
       "      <th>cl3</th>\n",
       "    </tr>\n",
       "  </thead>\n",
       "  <tbody>\n",
       "    <tr>\n",
       "      <th>0</th>\n",
       "      <td>x</td>\n",
       "      <td>y</td>\n",
       "      <td>7</td>\n",
       "    </tr>\n",
       "    <tr>\n",
       "      <th>1</th>\n",
       "      <td>k</td>\n",
       "      <td>i</td>\n",
       "      <td>8</td>\n",
       "    </tr>\n",
       "    <tr>\n",
       "      <th>2</th>\n",
       "      <td>i</td>\n",
       "      <td>o</td>\n",
       "      <td>0</td>\n",
       "    </tr>\n",
       "  </tbody>\n",
       "</table>\n",
       "</div>"
      ],
      "text/plain": [
       "  cl2 cl2.1  cl3\n",
       "0   x     y    7\n",
       "1   k     i    8\n",
       "2   i     o    0"
      ]
     },
     "execution_count": 53,
     "metadata": {},
     "output_type": "execute_result"
    }
   ],
   "source": [
    "pd.read_csv(StringIO(joy))"
   ]
  },
  {
   "cell_type": "code",
   "execution_count": 21,
   "id": "d0c0d712",
   "metadata": {},
   "outputs": [
    {
     "data": {
      "text/plain": [
       "pandas.core.frame.DataFrame"
      ]
     },
     "execution_count": 21,
     "metadata": {},
     "output_type": "execute_result"
    }
   ],
   "source": [
    "jpoy=pd.DataFrame(data=[[1,np.nan],[2,np.nan],[1,2]],index=['Joy1','Joy2','Joy3'],columns=[\"Toy1\",\"Toy2\"])\n",
    "type(jpoy)"
   ]
  },
  {
   "cell_type": "code",
   "execution_count": 22,
   "id": "2316ba18",
   "metadata": {},
   "outputs": [
    {
     "data": {
      "text/html": [
       "<div>\n",
       "<style scoped>\n",
       "    .dataframe tbody tr th:only-of-type {\n",
       "        vertical-align: middle;\n",
       "    }\n",
       "\n",
       "    .dataframe tbody tr th {\n",
       "        vertical-align: top;\n",
       "    }\n",
       "\n",
       "    .dataframe thead th {\n",
       "        text-align: right;\n",
       "    }\n",
       "</style>\n",
       "<table border=\"1\" class=\"dataframe\">\n",
       "  <thead>\n",
       "    <tr style=\"text-align: right;\">\n",
       "      <th></th>\n",
       "      <th>Toy1</th>\n",
       "      <th>Toy2</th>\n",
       "    </tr>\n",
       "  </thead>\n",
       "  <tbody>\n",
       "    <tr>\n",
       "      <th>Joy1</th>\n",
       "      <td>1</td>\n",
       "      <td>NaN</td>\n",
       "    </tr>\n",
       "    <tr>\n",
       "      <th>Joy2</th>\n",
       "      <td>2</td>\n",
       "      <td>NaN</td>\n",
       "    </tr>\n",
       "    <tr>\n",
       "      <th>Joy3</th>\n",
       "      <td>1</td>\n",
       "      <td>2.0</td>\n",
       "    </tr>\n",
       "  </tbody>\n",
       "</table>\n",
       "</div>"
      ],
      "text/plain": [
       "      Toy1  Toy2\n",
       "Joy1     1   NaN\n",
       "Joy2     2   NaN\n",
       "Joy3     1   2.0"
      ]
     },
     "execution_count": 22,
     "metadata": {},
     "output_type": "execute_result"
    }
   ],
   "source": [
    "jpoy"
   ]
  },
  {
   "cell_type": "code",
   "execution_count": 23,
   "id": "eff8db1f",
   "metadata": {},
   "outputs": [
    {
     "data": {
      "text/plain": [
       "Toy1    0\n",
       "Toy2    2\n",
       "dtype: int64"
      ]
     },
     "execution_count": 23,
     "metadata": {},
     "output_type": "execute_result"
    }
   ],
   "source": [
    "jpoy.isnull().sum()"
   ]
  },
  {
   "cell_type": "code",
   "execution_count": 24,
   "id": "68bf8b11",
   "metadata": {},
   "outputs": [
    {
     "data": {
      "text/html": [
       "<div>\n",
       "<style scoped>\n",
       "    .dataframe tbody tr th:only-of-type {\n",
       "        vertical-align: middle;\n",
       "    }\n",
       "\n",
       "    .dataframe tbody tr th {\n",
       "        vertical-align: top;\n",
       "    }\n",
       "\n",
       "    .dataframe thead th {\n",
       "        text-align: right;\n",
       "    }\n",
       "</style>\n",
       "<table border=\"1\" class=\"dataframe\">\n",
       "  <thead>\n",
       "    <tr style=\"text-align: right;\">\n",
       "      <th></th>\n",
       "      <th>Toy1</th>\n",
       "      <th>Toy2</th>\n",
       "    </tr>\n",
       "  </thead>\n",
       "  <tbody>\n",
       "    <tr>\n",
       "      <th>Joy1</th>\n",
       "      <td>False</td>\n",
       "      <td>True</td>\n",
       "    </tr>\n",
       "    <tr>\n",
       "      <th>Joy2</th>\n",
       "      <td>False</td>\n",
       "      <td>True</td>\n",
       "    </tr>\n",
       "    <tr>\n",
       "      <th>Joy3</th>\n",
       "      <td>False</td>\n",
       "      <td>False</td>\n",
       "    </tr>\n",
       "  </tbody>\n",
       "</table>\n",
       "</div>"
      ],
      "text/plain": [
       "       Toy1   Toy2\n",
       "Joy1  False   True\n",
       "Joy2  False   True\n",
       "Joy3  False  False"
      ]
     },
     "execution_count": 24,
     "metadata": {},
     "output_type": "execute_result"
    }
   ],
   "source": [
    "jpoy.isnull()"
   ]
  },
  {
   "cell_type": "code",
   "execution_count": 28,
   "id": "071fe50e",
   "metadata": {},
   "outputs": [
    {
     "data": {
      "text/plain": [
       "2.0    1\n",
       "Name: Toy2, dtype: int64"
      ]
     },
     "execution_count": 28,
     "metadata": {},
     "output_type": "execute_result"
    }
   ],
   "source": [
    "jpoy['Toy2'].value_counts()"
   ]
  },
  {
   "cell_type": "code",
   "execution_count": 29,
   "id": "eafbc44d",
   "metadata": {},
   "outputs": [
    {
     "data": {
      "text/plain": [
       "<bound method Series.unique of Joy1    NaN\n",
       "Joy2    NaN\n",
       "Joy3    2.0\n",
       "Name: Toy2, dtype: float64>"
      ]
     },
     "execution_count": 29,
     "metadata": {},
     "output_type": "execute_result"
    }
   ],
   "source": [
    "jpoy['Toy2'].unique"
   ]
  },
  {
   "cell_type": "code",
   "execution_count": null,
   "id": "226657fb",
   "metadata": {},
   "outputs": [],
   "source": [
    "\n"
   ]
  },
  {
   "cell_type": "code",
   "execution_count": null,
   "id": "e50939a6",
   "metadata": {},
   "outputs": [],
   "source": []
  },
  {
   "cell_type": "code",
   "execution_count": 43,
   "id": "790ce191",
   "metadata": {},
   "outputs": [],
   "source": [
    "df=pd.read_csv('Book1.csv',sep=\";\")"
   ]
  },
  {
   "cell_type": "code",
   "execution_count": 44,
   "id": "be0d0f77",
   "metadata": {},
   "outputs": [
    {
     "data": {
      "text/html": [
       "<div>\n",
       "<style scoped>\n",
       "    .dataframe tbody tr th:only-of-type {\n",
       "        vertical-align: middle;\n",
       "    }\n",
       "\n",
       "    .dataframe tbody tr th {\n",
       "        vertical-align: top;\n",
       "    }\n",
       "\n",
       "    .dataframe thead th {\n",
       "        text-align: right;\n",
       "    }\n",
       "</style>\n",
       "<table border=\"1\" class=\"dataframe\">\n",
       "  <thead>\n",
       "    <tr style=\"text-align: right;\">\n",
       "      <th></th>\n",
       "      <th>Hoodie</th>\n",
       "      <th>Boat</th>\n",
       "      <th>Boat1</th>\n",
       "      <th>Boat2</th>\n",
       "      <th>Boat3</th>\n",
       "      <th>Boat4</th>\n",
       "    </tr>\n",
       "  </thead>\n",
       "  <tbody>\n",
       "    <tr>\n",
       "      <th>0</th>\n",
       "      <td>1</td>\n",
       "      <td>45</td>\n",
       "      <td>11</td>\n",
       "      <td>2</td>\n",
       "      <td>75</td>\n",
       "      <td>1</td>\n",
       "    </tr>\n",
       "    <tr>\n",
       "      <th>1</th>\n",
       "      <td>2</td>\n",
       "      <td>48</td>\n",
       "      <td>18</td>\n",
       "      <td>2</td>\n",
       "      <td>72</td>\n",
       "      <td>0</td>\n",
       "    </tr>\n",
       "    <tr>\n",
       "      <th>2</th>\n",
       "      <td>3</td>\n",
       "      <td>51</td>\n",
       "      <td>25</td>\n",
       "      <td>5</td>\n",
       "      <td>69</td>\n",
       "      <td>-1</td>\n",
       "    </tr>\n",
       "  </tbody>\n",
       "</table>\n",
       "</div>"
      ],
      "text/plain": [
       "   Hoodie  Boat  Boat1  Boat2  Boat3  Boat4\n",
       "0       1    45     11      2     75      1\n",
       "1       2    48     18      2     72      0\n",
       "2       3    51     25      5     69     -1"
      ]
     },
     "execution_count": 44,
     "metadata": {},
     "output_type": "execute_result"
    }
   ],
   "source": [
    "df"
   ]
  },
  {
   "cell_type": "code",
   "execution_count": 45,
   "id": "d482fc92",
   "metadata": {},
   "outputs": [
    {
     "data": {
      "text/html": [
       "<div>\n",
       "<style scoped>\n",
       "    .dataframe tbody tr th:only-of-type {\n",
       "        vertical-align: middle;\n",
       "    }\n",
       "\n",
       "    .dataframe tbody tr th {\n",
       "        vertical-align: top;\n",
       "    }\n",
       "\n",
       "    .dataframe thead th {\n",
       "        text-align: right;\n",
       "    }\n",
       "</style>\n",
       "<table border=\"1\" class=\"dataframe\">\n",
       "  <thead>\n",
       "    <tr style=\"text-align: right;\">\n",
       "      <th></th>\n",
       "      <th>Hoodie</th>\n",
       "      <th>Boat</th>\n",
       "      <th>Boat1</th>\n",
       "      <th>Boat2</th>\n",
       "      <th>Boat3</th>\n",
       "      <th>Boat4</th>\n",
       "    </tr>\n",
       "  </thead>\n",
       "  <tbody>\n",
       "    <tr>\n",
       "      <th>1</th>\n",
       "      <td>2</td>\n",
       "      <td>48</td>\n",
       "      <td>18</td>\n",
       "      <td>2</td>\n",
       "      <td>72</td>\n",
       "      <td>0</td>\n",
       "    </tr>\n",
       "    <tr>\n",
       "      <th>2</th>\n",
       "      <td>3</td>\n",
       "      <td>51</td>\n",
       "      <td>25</td>\n",
       "      <td>5</td>\n",
       "      <td>69</td>\n",
       "      <td>-1</td>\n",
       "    </tr>\n",
       "  </tbody>\n",
       "</table>\n",
       "</div>"
      ],
      "text/plain": [
       "   Hoodie  Boat  Boat1  Boat2  Boat3  Boat4\n",
       "1       2    48     18      2     72      0\n",
       "2       3    51     25      5     69     -1"
      ]
     },
     "execution_count": 45,
     "metadata": {},
     "output_type": "execute_result"
    }
   ],
   "source": [
    "df[df['Boat1']>12]"
   ]
  },
  {
   "cell_type": "code",
   "execution_count": 79,
   "id": "485b945d",
   "metadata": {},
   "outputs": [],
   "source": [
    "df=pd.read_csv(StringIO(joy),dtype= 'object')"
   ]
  },
  {
   "cell_type": "code",
   "execution_count": 76,
   "id": "ff3013da",
   "metadata": {},
   "outputs": [
    {
     "name": "stdout",
     "output_type": "stream",
     "text": [
      "<class 'pandas.core.frame.DataFrame'>\n",
      "RangeIndex: 3 entries, 0 to 2\n",
      "Data columns (total 3 columns):\n",
      " #   Column  Non-Null Count  Dtype \n",
      "---  ------  --------------  ----- \n",
      " 0   cl2     3 non-null      object\n",
      " 1   cl2.1   3 non-null      object\n",
      " 2   cl3     3 non-null      object\n",
      "dtypes: object(3)\n",
      "memory usage: 200.0+ bytes\n"
     ]
    }
   ],
   "source": [
    "df.info()\n"
   ]
  },
  {
   "cell_type": "code",
   "execution_count": 77,
   "id": "6d78be06",
   "metadata": {},
   "outputs": [
    {
     "data": {
      "text/plain": [
       "cl2      object\n",
       "cl2.1    object\n",
       "cl3      object\n",
       "dtype: object"
      ]
     },
     "execution_count": 77,
     "metadata": {},
     "output_type": "execute_result"
    }
   ],
   "source": [
    "df.dtypes"
   ]
  },
  {
   "cell_type": "code",
   "execution_count": 95,
   "id": "0f77decc",
   "metadata": {},
   "outputs": [],
   "source": [
    "fta=('a,b(j),b\\n'\n",
    "     '4,d\\n'\n",
    "     '5,h,j')\n",
    "     "
   ]
  },
  {
   "cell_type": "code",
   "execution_count": 99,
   "id": "ca2de655",
   "metadata": {},
   "outputs": [],
   "source": [
    "df=pd.read_csv(StringIO(fta),usecols=['a','b(j)','b'],index_col=1)"
   ]
  },
  {
   "cell_type": "code",
   "execution_count": 100,
   "id": "168eea2a",
   "metadata": {},
   "outputs": [
    {
     "data": {
      "text/html": [
       "<div>\n",
       "<style scoped>\n",
       "    .dataframe tbody tr th:only-of-type {\n",
       "        vertical-align: middle;\n",
       "    }\n",
       "\n",
       "    .dataframe tbody tr th {\n",
       "        vertical-align: top;\n",
       "    }\n",
       "\n",
       "    .dataframe thead th {\n",
       "        text-align: right;\n",
       "    }\n",
       "</style>\n",
       "<table border=\"1\" class=\"dataframe\">\n",
       "  <thead>\n",
       "    <tr style=\"text-align: right;\">\n",
       "      <th></th>\n",
       "      <th>a</th>\n",
       "      <th>b</th>\n",
       "    </tr>\n",
       "    <tr>\n",
       "      <th>b(j)</th>\n",
       "      <th></th>\n",
       "      <th></th>\n",
       "    </tr>\n",
       "  </thead>\n",
       "  <tbody>\n",
       "    <tr>\n",
       "      <th>d</th>\n",
       "      <td>4</td>\n",
       "      <td>NaN</td>\n",
       "    </tr>\n",
       "    <tr>\n",
       "      <th>h</th>\n",
       "      <td>5</td>\n",
       "      <td>j</td>\n",
       "    </tr>\n",
       "  </tbody>\n",
       "</table>\n",
       "</div>"
      ],
      "text/plain": [
       "      a    b\n",
       "b(j)        \n",
       "d     4  NaN\n",
       "h     5    j"
      ]
     },
     "execution_count": 100,
     "metadata": {},
     "output_type": "execute_result"
    }
   ],
   "source": [
    "df"
   ]
  },
  {
   "cell_type": "code",
   "execution_count": 11,
   "id": "cb561ea0",
   "metadata": {},
   "outputs": [
    {
     "data": {
      "text/plain": [
       "1928209765952"
      ]
     },
     "execution_count": 11,
     "metadata": {},
     "output_type": "execute_result"
    }
   ],
   "source": [
    "a = [4,2]\n",
    "b = [4,2]\n",
    "id(a)\n",
    "id(b)"
   ]
  },
  {
   "cell_type": "code",
   "execution_count": 6,
   "id": "75f711c6",
   "metadata": {},
   "outputs": [
    {
     "data": {
      "text/plain": [
       "True"
      ]
     },
     "execution_count": 6,
     "metadata": {},
     "output_type": "execute_result"
    }
   ],
   "source": [
    "a==b"
   ]
  },
  {
   "cell_type": "code",
   "execution_count": 7,
   "id": "67bc8751",
   "metadata": {},
   "outputs": [
    {
     "data": {
      "text/plain": [
       "False"
      ]
     },
     "execution_count": 7,
     "metadata": {},
     "output_type": "execute_result"
    }
   ],
   "source": [
    "a is b"
   ]
  },
  {
   "cell_type": "code",
   "execution_count": 106,
   "id": "5a176977",
   "metadata": {},
   "outputs": [],
   "source": [
    "dd=pd.read_csv('https://download.bls.gov/pub/time.series/cu/cu.item' , sep='\\t')"
   ]
  },
  {
   "cell_type": "code",
   "execution_count": 116,
   "id": "ce6bdd5f",
   "metadata": {},
   "outputs": [
    {
     "data": {
      "text/html": [
       "<div>\n",
       "<style scoped>\n",
       "    .dataframe tbody tr th:only-of-type {\n",
       "        vertical-align: middle;\n",
       "    }\n",
       "\n",
       "    .dataframe tbody tr th {\n",
       "        vertical-align: top;\n",
       "    }\n",
       "\n",
       "    .dataframe thead th {\n",
       "        text-align: right;\n",
       "    }\n",
       "</style>\n",
       "<table border=\"1\" class=\"dataframe\">\n",
       "  <thead>\n",
       "    <tr style=\"text-align: right;\">\n",
       "      <th></th>\n",
       "      <th>item_code</th>\n",
       "      <th>item_name</th>\n",
       "      <th>display_level</th>\n",
       "      <th>selectable</th>\n",
       "    </tr>\n",
       "  </thead>\n",
       "  <tbody>\n",
       "    <tr>\n",
       "      <th>0</th>\n",
       "      <td>AA0</td>\n",
       "      <td>All items - old base</td>\n",
       "      <td>0</td>\n",
       "      <td>T</td>\n",
       "    </tr>\n",
       "    <tr>\n",
       "      <th>1</th>\n",
       "      <td>AA0R</td>\n",
       "      <td>Purchasing power of the consumer dollar - old ...</td>\n",
       "      <td>0</td>\n",
       "      <td>T</td>\n",
       "    </tr>\n",
       "    <tr>\n",
       "      <th>2</th>\n",
       "      <td>SA0</td>\n",
       "      <td>All items</td>\n",
       "      <td>0</td>\n",
       "      <td>T</td>\n",
       "    </tr>\n",
       "    <tr>\n",
       "      <th>3</th>\n",
       "      <td>SA0E</td>\n",
       "      <td>Energy</td>\n",
       "      <td>1</td>\n",
       "      <td>T</td>\n",
       "    </tr>\n",
       "    <tr>\n",
       "      <th>4</th>\n",
       "      <td>SA0L1</td>\n",
       "      <td>All items less food</td>\n",
       "      <td>1</td>\n",
       "      <td>T</td>\n",
       "    </tr>\n",
       "  </tbody>\n",
       "</table>\n",
       "</div>"
      ],
      "text/plain": [
       "  item_code                                          item_name  display_level  \\\n",
       "0       AA0                               All items - old base              0   \n",
       "1      AA0R  Purchasing power of the consumer dollar - old ...              0   \n",
       "2       SA0                                          All items              0   \n",
       "3      SA0E                                             Energy              1   \n",
       "4     SA0L1                                All items less food              1   \n",
       "\n",
       "  selectable  \n",
       "0          T  \n",
       "1          T  \n",
       "2          T  \n",
       "3          T  \n",
       "4          T  "
      ]
     },
     "execution_count": 116,
     "metadata": {},
     "output_type": "execute_result"
    }
   ],
   "source": [
    "dd.iloc[0:5,0:4]"
   ]
  },
  {
   "cell_type": "code",
   "execution_count": 128,
   "id": "ee8816d4",
   "metadata": {},
   "outputs": [],
   "source": [
    "data = '{\"employee_name\": \"James\", \"email\": \"james@gmail.com\", \"job_profile\": [{\"title1\":\"Team Lead\", \"title2\":\"Sr. Developer\"}] ,\"joy\": \"toy\"}'"
   ]
  },
  {
   "cell_type": "code",
   "execution_count": 129,
   "id": "820fbf7b",
   "metadata": {},
   "outputs": [
    {
     "data": {
      "text/html": [
       "<div>\n",
       "<style scoped>\n",
       "    .dataframe tbody tr th:only-of-type {\n",
       "        vertical-align: middle;\n",
       "    }\n",
       "\n",
       "    .dataframe tbody tr th {\n",
       "        vertical-align: top;\n",
       "    }\n",
       "\n",
       "    .dataframe thead th {\n",
       "        text-align: right;\n",
       "    }\n",
       "</style>\n",
       "<table border=\"1\" class=\"dataframe\">\n",
       "  <thead>\n",
       "    <tr style=\"text-align: right;\">\n",
       "      <th></th>\n",
       "      <th>employee_name</th>\n",
       "      <th>email</th>\n",
       "      <th>job_profile</th>\n",
       "      <th>joy</th>\n",
       "    </tr>\n",
       "  </thead>\n",
       "  <tbody>\n",
       "    <tr>\n",
       "      <th>0</th>\n",
       "      <td>James</td>\n",
       "      <td>james@gmail.com</td>\n",
       "      <td>{'title1': 'Team Lead', 'title2': 'Sr. Develop...</td>\n",
       "      <td>toy</td>\n",
       "    </tr>\n",
       "  </tbody>\n",
       "</table>\n",
       "</div>"
      ],
      "text/plain": [
       "  employee_name            email  \\\n",
       "0         James  james@gmail.com   \n",
       "\n",
       "                                         job_profile  joy  \n",
       "0  {'title1': 'Team Lead', 'title2': 'Sr. Develop...  toy  "
      ]
     },
     "execution_count": 129,
     "metadata": {},
     "output_type": "execute_result"
    }
   ],
   "source": [
    "pd.read_json(data)"
   ]
  },
  {
   "cell_type": "code",
   "execution_count": 134,
   "id": "0494f3b0",
   "metadata": {},
   "outputs": [
    {
     "data": {
      "text/html": [
       "<div>\n",
       "<style scoped>\n",
       "    .dataframe tbody tr th:only-of-type {\n",
       "        vertical-align: middle;\n",
       "    }\n",
       "\n",
       "    .dataframe tbody tr th {\n",
       "        vertical-align: top;\n",
       "    }\n",
       "\n",
       "    .dataframe thead th {\n",
       "        text-align: right;\n",
       "    }\n",
       "</style>\n",
       "<table border=\"1\" class=\"dataframe\">\n",
       "  <thead>\n",
       "    <tr style=\"text-align: right;\">\n",
       "      <th></th>\n",
       "      <th>Toy1</th>\n",
       "      <th>Toy2</th>\n",
       "    </tr>\n",
       "  </thead>\n",
       "  <tbody>\n",
       "    <tr>\n",
       "      <th>Joy1</th>\n",
       "      <td>1</td>\n",
       "      <td>NaN</td>\n",
       "    </tr>\n",
       "    <tr>\n",
       "      <th>Joy2</th>\n",
       "      <td>2</td>\n",
       "      <td>NaN</td>\n",
       "    </tr>\n",
       "    <tr>\n",
       "      <th>Joy3</th>\n",
       "      <td>1</td>\n",
       "      <td>2.0</td>\n",
       "    </tr>\n",
       "  </tbody>\n",
       "</table>\n",
       "</div>"
      ],
      "text/plain": [
       "      Toy1  Toy2\n",
       "Joy1     1   NaN\n",
       "Joy2     2   NaN\n",
       "Joy3     1   2.0"
      ]
     },
     "execution_count": 134,
     "metadata": {},
     "output_type": "execute_result"
    }
   ],
   "source": [
    "jpoy=pd.DataFrame(data=[[1,np.nan],[2,np.nan],[1,2]],index=['Joy1','Joy2','Joy3'],columns=[\"Toy1\",\"Toy2\"])\n",
    "jpoy"
   ]
  },
  {
   "cell_type": "code",
   "execution_count": 141,
   "id": "f148465c",
   "metadata": {},
   "outputs": [
    {
     "data": {
      "text/plain": [
       "'{\"Toy1\":{\"Joy1\":1,\"Joy2\":2,\"Joy3\":1},\"Toy2\":{\"Joy1\":null,\"Joy2\":null,\"Joy3\":2.0}}'"
      ]
     },
     "execution_count": 141,
     "metadata": {},
     "output_type": "execute_result"
    }
   ],
   "source": [
    "jpoy.to_json(orient='columns')"
   ]
  },
  {
   "cell_type": "code",
   "execution_count": 143,
   "id": "93ee7c1f",
   "metadata": {},
   "outputs": [
    {
     "data": {
      "text/plain": [
       "'{\"Joy1\":{\"Toy1\":1,\"Toy2\":null},\"Joy2\":{\"Toy1\":2,\"Toy2\":null},\"Joy3\":{\"Toy1\":1,\"Toy2\":2.0}}'"
      ]
     },
     "execution_count": 143,
     "metadata": {},
     "output_type": "execute_result"
    }
   ],
   "source": [
    "jpoy.to_json(orient='index')"
   ]
  },
  {
   "cell_type": "code",
   "execution_count": 144,
   "id": "44b91ecc",
   "metadata": {},
   "outputs": [
    {
     "data": {
      "text/plain": [
       "'{\"columns\":[\"Toy1\",\"Toy2\"],\"index\":[\"Joy1\",\"Joy2\",\"Joy3\"],\"data\":[[1,null],[2,null],[1,2.0]]}'"
      ]
     },
     "execution_count": 144,
     "metadata": {},
     "output_type": "execute_result"
    }
   ],
   "source": [
    "jpoy.to_json(orient='split')"
   ]
  },
  {
   "cell_type": "code",
   "execution_count": 147,
   "id": "d6a2f982",
   "metadata": {},
   "outputs": [
    {
     "data": {
      "text/plain": [
       "'{\"schema\":{\"fields\":[{\"name\":\"index\",\"type\":\"string\"},{\"name\":\"Toy1\",\"type\":\"integer\"},{\"name\":\"Toy2\",\"type\":\"number\"}],\"primaryKey\":[\"index\"],\"pandas_version\":\"1.4.0\"},\"data\":[{\"index\":\"Joy1\",\"Toy1\":1,\"Toy2\":null},{\"index\":\"Joy2\",\"Toy1\":2,\"Toy2\":null},{\"index\":\"Joy3\",\"Toy1\":1,\"Toy2\":2.0}]}'"
      ]
     },
     "execution_count": 147,
     "metadata": {},
     "output_type": "execute_result"
    }
   ],
   "source": [
    "jpoy.to_json(orient='table')"
   ]
  },
  {
   "cell_type": "code",
   "execution_count": 148,
   "id": "f3a44577",
   "metadata": {},
   "outputs": [],
   "source": [
    "schema='{\"schema\":{\"fields\":[{\"name\":\"index\",\"type\":\"string\"},{\"name\":\"Toy1\",\"type\":\"integer\"},{\"name\":\"Toy2\",\"type\":\"number\"}],\"primaryKey\":[\"index\"],\"pandas_version\":\"1.4.0\"},\"data\":[{\"index\":\"Joy1\",\"Toy1\":1,\"Toy2\":null},{\"index\":\"Joy2\",\"Toy1\":2,\"Toy2\":null},{\"index\":\"Joy3\",\"Toy1\":1,\"Toy2\":2.0}]}'"
   ]
  },
  {
   "cell_type": "code",
   "execution_count": 149,
   "id": "e3317661",
   "metadata": {},
   "outputs": [
    {
     "data": {
      "text/html": [
       "<div>\n",
       "<style scoped>\n",
       "    .dataframe tbody tr th:only-of-type {\n",
       "        vertical-align: middle;\n",
       "    }\n",
       "\n",
       "    .dataframe tbody tr th {\n",
       "        vertical-align: top;\n",
       "    }\n",
       "\n",
       "    .dataframe thead th {\n",
       "        text-align: right;\n",
       "    }\n",
       "</style>\n",
       "<table border=\"1\" class=\"dataframe\">\n",
       "  <thead>\n",
       "    <tr style=\"text-align: right;\">\n",
       "      <th></th>\n",
       "      <th>Toy1</th>\n",
       "      <th>Toy2</th>\n",
       "    </tr>\n",
       "  </thead>\n",
       "  <tbody>\n",
       "    <tr>\n",
       "      <th>Joy1</th>\n",
       "      <td>1</td>\n",
       "      <td>NaN</td>\n",
       "    </tr>\n",
       "    <tr>\n",
       "      <th>Joy2</th>\n",
       "      <td>2</td>\n",
       "      <td>NaN</td>\n",
       "    </tr>\n",
       "    <tr>\n",
       "      <th>Joy3</th>\n",
       "      <td>1</td>\n",
       "      <td>2.0</td>\n",
       "    </tr>\n",
       "  </tbody>\n",
       "</table>\n",
       "</div>"
      ],
      "text/plain": [
       "      Toy1  Toy2\n",
       "Joy1     1   NaN\n",
       "Joy2     2   NaN\n",
       "Joy3     1   2.0"
      ]
     },
     "execution_count": 149,
     "metadata": {},
     "output_type": "execute_result"
    }
   ],
   "source": [
    "pd.read_json(schema,orient='table')"
   ]
  },
  {
   "cell_type": "code",
   "execution_count": 139,
   "id": "5f91315f",
   "metadata": {},
   "outputs": [],
   "source": [
    "joy= '{\"hoy\":{\"hot\": \"jot\", \"pot\": 2}}'"
   ]
  },
  {
   "cell_type": "code",
   "execution_count": 140,
   "id": "22be9b10",
   "metadata": {},
   "outputs": [
    {
     "data": {
      "text/html": [
       "<div>\n",
       "<style scoped>\n",
       "    .dataframe tbody tr th:only-of-type {\n",
       "        vertical-align: middle;\n",
       "    }\n",
       "\n",
       "    .dataframe tbody tr th {\n",
       "        vertical-align: top;\n",
       "    }\n",
       "\n",
       "    .dataframe thead th {\n",
       "        text-align: right;\n",
       "    }\n",
       "</style>\n",
       "<table border=\"1\" class=\"dataframe\">\n",
       "  <thead>\n",
       "    <tr style=\"text-align: right;\">\n",
       "      <th></th>\n",
       "      <th>hoy</th>\n",
       "    </tr>\n",
       "  </thead>\n",
       "  <tbody>\n",
       "    <tr>\n",
       "      <th>hot</th>\n",
       "      <td>jot</td>\n",
       "    </tr>\n",
       "    <tr>\n",
       "      <th>pot</th>\n",
       "      <td>2</td>\n",
       "    </tr>\n",
       "  </tbody>\n",
       "</table>\n",
       "</div>"
      ],
      "text/plain": [
       "     hoy\n",
       "hot  jot\n",
       "pot    2"
      ]
     },
     "execution_count": 140,
     "metadata": {},
     "output_type": "execute_result"
    }
   ],
   "source": [
    "pd.read_json(joy)"
   ]
  },
  {
   "cell_type": "code",
   "execution_count": 173,
   "id": "be40ee3c",
   "metadata": {},
   "outputs": [],
   "source": [
    "data = [{\"employee_name\": \"James\", \"email\": \"james@gmail.com\", \"job_profile\": \"Team Lead\"}]"
   ]
  },
  {
   "cell_type": "code",
   "execution_count": 174,
   "id": "a73f979a",
   "metadata": {},
   "outputs": [
    {
     "data": {
      "text/html": [
       "<div>\n",
       "<style scoped>\n",
       "    .dataframe tbody tr th:only-of-type {\n",
       "        vertical-align: middle;\n",
       "    }\n",
       "\n",
       "    .dataframe tbody tr th {\n",
       "        vertical-align: top;\n",
       "    }\n",
       "\n",
       "    .dataframe thead th {\n",
       "        text-align: right;\n",
       "    }\n",
       "</style>\n",
       "<table border=\"1\" class=\"dataframe\">\n",
       "  <thead>\n",
       "    <tr style=\"text-align: right;\">\n",
       "      <th></th>\n",
       "      <th>employee_name</th>\n",
       "      <th>email</th>\n",
       "      <th>job_profile</th>\n",
       "    </tr>\n",
       "  </thead>\n",
       "  <tbody>\n",
       "    <tr>\n",
       "      <th>0</th>\n",
       "      <td>James</td>\n",
       "      <td>james@gmail.com</td>\n",
       "      <td>Team Lead</td>\n",
       "    </tr>\n",
       "  </tbody>\n",
       "</table>\n",
       "</div>"
      ],
      "text/plain": [
       "  employee_name            email job_profile\n",
       "0         James  james@gmail.com   Team Lead"
      ]
     },
     "execution_count": 174,
     "metadata": {},
     "output_type": "execute_result"
    }
   ],
   "source": [
    "pd.json_normalize(data)"
   ]
  },
  {
   "cell_type": "code",
   "execution_count": 154,
   "id": "3f46497e",
   "metadata": {},
   "outputs": [],
   "source": [
    "pata = [\n",
    "    {\n",
    "        \"id\": 1,\n",
    "        \"name\": \"Cole Volk\",\n",
    "        \"fitness\": {\"height\": 130, \"weight\": 60},\n",
    "    },\n",
    "    {\"name\": \"Mark Reg\", \"fitness\": {\"height\": 130, \"weight\": 60}},\n",
    "    {\n",
    "        \"id\": 2,\n",
    "        \"name\": \"Faye Raker\",\n",
    "        \"fitness\": {\"height\": 130, \"weight\": 60},\n",
    "    },\n",
    "]"
   ]
  },
  {
   "cell_type": "code",
   "execution_count": 163,
   "id": "3944d7fb",
   "metadata": {},
   "outputs": [
    {
     "data": {
      "text/html": [
       "<div>\n",
       "<style scoped>\n",
       "    .dataframe tbody tr th:only-of-type {\n",
       "        vertical-align: middle;\n",
       "    }\n",
       "\n",
       "    .dataframe tbody tr th {\n",
       "        vertical-align: top;\n",
       "    }\n",
       "\n",
       "    .dataframe thead th {\n",
       "        text-align: right;\n",
       "    }\n",
       "</style>\n",
       "<table border=\"1\" class=\"dataframe\">\n",
       "  <thead>\n",
       "    <tr style=\"text-align: right;\">\n",
       "      <th></th>\n",
       "      <th>id</th>\n",
       "      <th>name</th>\n",
       "      <th>fitness.height</th>\n",
       "      <th>fitness.weight</th>\n",
       "    </tr>\n",
       "  </thead>\n",
       "  <tbody>\n",
       "    <tr>\n",
       "      <th>0</th>\n",
       "      <td>1.0</td>\n",
       "      <td>Cole Volk</td>\n",
       "      <td>130</td>\n",
       "      <td>60</td>\n",
       "    </tr>\n",
       "    <tr>\n",
       "      <th>1</th>\n",
       "      <td>NaN</td>\n",
       "      <td>Mark Reg</td>\n",
       "      <td>130</td>\n",
       "      <td>60</td>\n",
       "    </tr>\n",
       "    <tr>\n",
       "      <th>2</th>\n",
       "      <td>2.0</td>\n",
       "      <td>Faye Raker</td>\n",
       "      <td>130</td>\n",
       "      <td>60</td>\n",
       "    </tr>\n",
       "  </tbody>\n",
       "</table>\n",
       "</div>"
      ],
      "text/plain": [
       "    id        name  fitness.height  fitness.weight\n",
       "0  1.0   Cole Volk             130              60\n",
       "1  NaN    Mark Reg             130              60\n",
       "2  2.0  Faye Raker             130              60"
      ]
     },
     "execution_count": 163,
     "metadata": {},
     "output_type": "execute_result"
    }
   ],
   "source": [
    "pd.json_normalize(pata )"
   ]
  },
  {
   "cell_type": "code",
   "execution_count": 164,
   "id": "9ebdfabb",
   "metadata": {},
   "outputs": [],
   "source": [
    "oata = [\n",
    "    {\n",
    "        \"state\": \"Florida\",\n",
    "        \"shortname\": \"FL\",\n",
    "        \"info\": {\"governor\": \"Rick Scott\"},\n",
    "        \"counties\": [\n",
    "            {\"name\": \"Dade\", \"population\": 12345},\n",
    "            {\"name\": \"Broward\", \"population\": 40000},\n",
    "            {\"name\": \"Palm Beach\", \"population\": 60000},\n",
    "        ],\n",
    "    },\n",
    "    {\n",
    "        \"state\": \"Ohio\",\n",
    "        \"shortname\": \"OH\",\n",
    "        \"info\": {\"governor\": \"John Kasich\"},\n",
    "        \"counties\": [\n",
    "            {\"name\": \"Summit\", \"population\": 1234},\n",
    "            {\"name\": \"Cuyahoga\", \"population\": 1337},\n",
    "        ],\n",
    "    },\n",
    "]"
   ]
  },
  {
   "cell_type": "code",
   "execution_count": 172,
   "id": "141aca25",
   "metadata": {},
   "outputs": [
    {
     "data": {
      "text/html": [
       "<div>\n",
       "<style scoped>\n",
       "    .dataframe tbody tr th:only-of-type {\n",
       "        vertical-align: middle;\n",
       "    }\n",
       "\n",
       "    .dataframe tbody tr th {\n",
       "        vertical-align: top;\n",
       "    }\n",
       "\n",
       "    .dataframe thead th {\n",
       "        text-align: right;\n",
       "    }\n",
       "</style>\n",
       "<table border=\"1\" class=\"dataframe\">\n",
       "  <thead>\n",
       "    <tr style=\"text-align: right;\">\n",
       "      <th></th>\n",
       "      <th>name</th>\n",
       "      <th>population</th>\n",
       "      <th>state</th>\n",
       "      <th>shortname</th>\n",
       "      <th>info.governor</th>\n",
       "    </tr>\n",
       "  </thead>\n",
       "  <tbody>\n",
       "    <tr>\n",
       "      <th>0</th>\n",
       "      <td>Dade</td>\n",
       "      <td>12345</td>\n",
       "      <td>Florida</td>\n",
       "      <td>FL</td>\n",
       "      <td>Rick Scott</td>\n",
       "    </tr>\n",
       "    <tr>\n",
       "      <th>1</th>\n",
       "      <td>Broward</td>\n",
       "      <td>40000</td>\n",
       "      <td>Florida</td>\n",
       "      <td>FL</td>\n",
       "      <td>Rick Scott</td>\n",
       "    </tr>\n",
       "    <tr>\n",
       "      <th>2</th>\n",
       "      <td>Palm Beach</td>\n",
       "      <td>60000</td>\n",
       "      <td>Florida</td>\n",
       "      <td>FL</td>\n",
       "      <td>Rick Scott</td>\n",
       "    </tr>\n",
       "    <tr>\n",
       "      <th>3</th>\n",
       "      <td>Summit</td>\n",
       "      <td>1234</td>\n",
       "      <td>Ohio</td>\n",
       "      <td>OH</td>\n",
       "      <td>John Kasich</td>\n",
       "    </tr>\n",
       "    <tr>\n",
       "      <th>4</th>\n",
       "      <td>Cuyahoga</td>\n",
       "      <td>1337</td>\n",
       "      <td>Ohio</td>\n",
       "      <td>OH</td>\n",
       "      <td>John Kasich</td>\n",
       "    </tr>\n",
       "  </tbody>\n",
       "</table>\n",
       "</div>"
      ],
      "text/plain": [
       "         name  population    state shortname info.governor\n",
       "0        Dade       12345  Florida        FL    Rick Scott\n",
       "1     Broward       40000  Florida        FL    Rick Scott\n",
       "2  Palm Beach       60000  Florida        FL    Rick Scott\n",
       "3      Summit        1234     Ohio        OH   John Kasich\n",
       "4    Cuyahoga        1337     Ohio        OH   John Kasich"
      ]
     },
     "execution_count": 172,
     "metadata": {},
     "output_type": "execute_result"
    }
   ],
   "source": [
    "pd.json_normalize(oata,\"counties\",[\"state\",\"shortname\",[\"info\",\"governor\"]])"
   ]
  },
  {
   "cell_type": "code",
   "execution_count": 23,
   "id": "0763356a",
   "metadata": {},
   "outputs": [],
   "source": [
    "joy=pd.read_html(\"https://en.wikipedia.org/wiki/Mobile_country_code\")"
   ]
  },
  {
   "cell_type": "code",
   "execution_count": 24,
   "id": "cddfa72d",
   "metadata": {},
   "outputs": [
    {
     "data": {
      "text/html": [
       "<div>\n",
       "<style scoped>\n",
       "    .dataframe tbody tr th:only-of-type {\n",
       "        vertical-align: middle;\n",
       "    }\n",
       "\n",
       "    .dataframe tbody tr th {\n",
       "        vertical-align: top;\n",
       "    }\n",
       "\n",
       "    .dataframe thead th {\n",
       "        text-align: right;\n",
       "    }\n",
       "</style>\n",
       "<table border=\"1\" class=\"dataframe\">\n",
       "  <thead>\n",
       "    <tr style=\"text-align: right;\">\n",
       "      <th></th>\n",
       "      <th>MCC</th>\n",
       "      <th>MNC</th>\n",
       "      <th>Brand</th>\n",
       "      <th>Operator</th>\n",
       "      <th>Status</th>\n",
       "      <th>Bands (MHz)</th>\n",
       "      <th>References and notes</th>\n",
       "    </tr>\n",
       "  </thead>\n",
       "  <tbody>\n",
       "    <tr>\n",
       "      <th>0</th>\n",
       "      <td>1</td>\n",
       "      <td>1</td>\n",
       "      <td>TEST</td>\n",
       "      <td>Test network</td>\n",
       "      <td>Operational</td>\n",
       "      <td>any</td>\n",
       "      <td>NaN</td>\n",
       "    </tr>\n",
       "    <tr>\n",
       "      <th>1</th>\n",
       "      <td>1</td>\n",
       "      <td>1</td>\n",
       "      <td>TEST</td>\n",
       "      <td>Test network</td>\n",
       "      <td>Operational</td>\n",
       "      <td>any</td>\n",
       "      <td>NaN</td>\n",
       "    </tr>\n",
       "    <tr>\n",
       "      <th>2</th>\n",
       "      <td>999</td>\n",
       "      <td>99</td>\n",
       "      <td>NaN</td>\n",
       "      <td>Internal use</td>\n",
       "      <td>Operational</td>\n",
       "      <td>any</td>\n",
       "      <td>Internal use in private networks, no roaming[4]</td>\n",
       "    </tr>\n",
       "    <tr>\n",
       "      <th>3</th>\n",
       "      <td>999</td>\n",
       "      <td>999</td>\n",
       "      <td>NaN</td>\n",
       "      <td>Internal use</td>\n",
       "      <td>Operational</td>\n",
       "      <td>any</td>\n",
       "      <td>Internal use in private networks, no roaming[4]</td>\n",
       "    </tr>\n",
       "  </tbody>\n",
       "</table>\n",
       "</div>"
      ],
      "text/plain": [
       "   MCC  MNC Brand      Operator       Status Bands (MHz)  \\\n",
       "0    1    1  TEST  Test network  Operational         any   \n",
       "1    1    1  TEST  Test network  Operational         any   \n",
       "2  999   99   NaN  Internal use  Operational         any   \n",
       "3  999  999   NaN  Internal use  Operational         any   \n",
       "\n",
       "                              References and notes  \n",
       "0                                              NaN  \n",
       "1                                              NaN  \n",
       "2  Internal use in private networks, no roaming[4]  \n",
       "3  Internal use in private networks, no roaming[4]  "
      ]
     },
     "execution_count": 24,
     "metadata": {},
     "output_type": "execute_result"
    }
   ],
   "source": [
    "joy[0]"
   ]
  },
  {
   "cell_type": "code",
   "execution_count": 11,
   "id": "21db817e",
   "metadata": {},
   "outputs": [],
   "source": [
    "toy=pd.read_html(\"https://en.wikipedia.org/wiki/List_of_countries_and_dependencies_by_area#:~:text=All%20193%20member%20states%20of,the%20list%20in%20ranked%20order.\")"
   ]
  },
  {
   "cell_type": "code",
   "execution_count": 22,
   "id": "a64747f6",
   "metadata": {},
   "outputs": [
    {
     "data": {
      "text/html": [
       "<div>\n",
       "<style scoped>\n",
       "    .dataframe tbody tr th:only-of-type {\n",
       "        vertical-align: middle;\n",
       "    }\n",
       "\n",
       "    .dataframe tbody tr th {\n",
       "        vertical-align: top;\n",
       "    }\n",
       "\n",
       "    .dataframe thead th {\n",
       "        text-align: right;\n",
       "    }\n",
       "</style>\n",
       "<table border=\"1\" class=\"dataframe\">\n",
       "  <thead>\n",
       "    <tr style=\"text-align: right;\">\n",
       "      <th></th>\n",
       "      <th>Rank</th>\n",
       "      <th>Country / Dependency</th>\n",
       "      <th>Total in km2 (mi2)</th>\n",
       "      <th>Land in km2 (mi2)</th>\n",
       "      <th>Water in km2 (mi2)</th>\n",
       "      <th>% water</th>\n",
       "      <th>Notes</th>\n",
       "    </tr>\n",
       "  </thead>\n",
       "  <tbody>\n",
       "    <tr>\n",
       "      <th>0</th>\n",
       "      <td>NaN</td>\n",
       "      <td>World</td>\n",
       "      <td>510,072,000 (196,940,000)</td>\n",
       "      <td>148,940,000 (57,510,000)</td>\n",
       "      <td>361,132,000 (139,434,000)</td>\n",
       "      <td>70.8</td>\n",
       "      <td>NaN</td>\n",
       "    </tr>\n",
       "    <tr>\n",
       "      <th>1</th>\n",
       "      <td>1</td>\n",
       "      <td>Russia</td>\n",
       "      <td>17,098,246 (6,601,670)</td>\n",
       "      <td>16,378,410 (6,323,740)</td>\n",
       "      <td>719,836 (277,930)</td>\n",
       "      <td>4.21</td>\n",
       "      <td>The largest country in the world, which spans ...</td>\n",
       "    </tr>\n",
       "    <tr>\n",
       "      <th>2</th>\n",
       "      <td>NaN</td>\n",
       "      <td>Antarctica</td>\n",
       "      <td>14,200,000 (5,500,000)</td>\n",
       "      <td>14,200,000 (5,500,000)</td>\n",
       "      <td>0 (0)</td>\n",
       "      <td>0</td>\n",
       "      <td>13,916,000 km2 (5,373,000 sq mi) (98%) of the ...</td>\n",
       "    </tr>\n",
       "    <tr>\n",
       "      <th>3</th>\n",
       "      <td>2</td>\n",
       "      <td>Canada[Note 1]</td>\n",
       "      <td>9,984,670 (3,855,100)</td>\n",
       "      <td>9,093,507 (3,511,023)</td>\n",
       "      <td>891,163 (344,080)</td>\n",
       "      <td>8.93</td>\n",
       "      <td>Largest English- and largest French-speaking c...</td>\n",
       "    </tr>\n",
       "    <tr>\n",
       "      <th>4</th>\n",
       "      <td>3/4</td>\n",
       "      <td>China</td>\n",
       "      <td>9,596,961 (3,705,407)</td>\n",
       "      <td>9,326,410 (3,600,950)</td>\n",
       "      <td>270,550 (104,460)</td>\n",
       "      <td>2.82</td>\n",
       "      <td>Largest country entirely in Asia, and second-l...</td>\n",
       "    </tr>\n",
       "    <tr>\n",
       "      <th>...</th>\n",
       "      <td>...</td>\n",
       "      <td>...</td>\n",
       "      <td>...</td>\n",
       "      <td>...</td>\n",
       "      <td>...</td>\n",
       "      <td>...</td>\n",
       "      <td>...</td>\n",
       "    </tr>\n",
       "    <tr>\n",
       "      <th>259</th>\n",
       "      <td>NaN</td>\n",
       "      <td>Ashmore and Cartier Islands (Australia)</td>\n",
       "      <td>5 (1.9)</td>\n",
       "      <td>5 (1.9)</td>\n",
       "      <td>0 (0)</td>\n",
       "      <td>0</td>\n",
       "      <td>NaN</td>\n",
       "    </tr>\n",
       "    <tr>\n",
       "      <th>260</th>\n",
       "      <td>NaN</td>\n",
       "      <td>Spratly Islands (disputed)</td>\n",
       "      <td>(&lt; 1.9)</td>\n",
       "      <td>(&lt; 1.9)</td>\n",
       "      <td>0 (0)</td>\n",
       "      <td>0</td>\n",
       "      <td>NaN</td>\n",
       "    </tr>\n",
       "    <tr>\n",
       "      <th>261</th>\n",
       "      <td>NaN</td>\n",
       "      <td>Coral Sea Islands (Australia)</td>\n",
       "      <td>(&lt; 1.2)</td>\n",
       "      <td>(&lt; 1.2)</td>\n",
       "      <td>0 (0)</td>\n",
       "      <td>0</td>\n",
       "      <td>NaN</td>\n",
       "    </tr>\n",
       "    <tr>\n",
       "      <th>262</th>\n",
       "      <td>194</td>\n",
       "      <td>Monaco</td>\n",
       "      <td>2.02 (0.78)</td>\n",
       "      <td>2.02 (0.78)</td>\n",
       "      <td>0 (0)</td>\n",
       "      <td>0</td>\n",
       "      <td>European microstate. Smallest country with a c...</td>\n",
       "    </tr>\n",
       "    <tr>\n",
       "      <th>263</th>\n",
       "      <td>195</td>\n",
       "      <td>Vatican City</td>\n",
       "      <td>0.49 (0.19)</td>\n",
       "      <td>0.49 (0.19)</td>\n",
       "      <td>0 (0)</td>\n",
       "      <td>0</td>\n",
       "      <td>European microstate. Smallest country in the w...</td>\n",
       "    </tr>\n",
       "  </tbody>\n",
       "</table>\n",
       "<p>264 rows × 7 columns</p>\n",
       "</div>"
      ],
      "text/plain": [
       "    Rank                     Country / Dependency         Total in km2 (mi2)  \\\n",
       "0    NaN                                    World  510,072,000 (196,940,000)   \n",
       "1      1                                   Russia     17,098,246 (6,601,670)   \n",
       "2    NaN                               Antarctica     14,200,000 (5,500,000)   \n",
       "3      2                           Canada[Note 1]      9,984,670 (3,855,100)   \n",
       "4    3/4                                    China      9,596,961 (3,705,407)   \n",
       "..   ...                                      ...                        ...   \n",
       "259  NaN  Ashmore and Cartier Islands (Australia)                    5 (1.9)   \n",
       "260  NaN               Spratly Islands (disputed)                    (< 1.9)   \n",
       "261  NaN            Coral Sea Islands (Australia)                    (< 1.2)   \n",
       "262  194                                   Monaco                2.02 (0.78)   \n",
       "263  195                             Vatican City                0.49 (0.19)   \n",
       "\n",
       "            Land in km2 (mi2)         Water in km2 (mi2) % water  \\\n",
       "0    148,940,000 (57,510,000)  361,132,000 (139,434,000)    70.8   \n",
       "1      16,378,410 (6,323,740)          719,836 (277,930)    4.21   \n",
       "2      14,200,000 (5,500,000)                      0 (0)       0   \n",
       "3       9,093,507 (3,511,023)          891,163 (344,080)    8.93   \n",
       "4       9,326,410 (3,600,950)          270,550 (104,460)    2.82   \n",
       "..                        ...                        ...     ...   \n",
       "259                   5 (1.9)                      0 (0)       0   \n",
       "260                   (< 1.9)                      0 (0)       0   \n",
       "261                   (< 1.2)                      0 (0)       0   \n",
       "262               2.02 (0.78)                      0 (0)       0   \n",
       "263               0.49 (0.19)                      0 (0)       0   \n",
       "\n",
       "                                                 Notes  \n",
       "0                                                  NaN  \n",
       "1    The largest country in the world, which spans ...  \n",
       "2    13,916,000 km2 (5,373,000 sq mi) (98%) of the ...  \n",
       "3    Largest English- and largest French-speaking c...  \n",
       "4    Largest country entirely in Asia, and second-l...  \n",
       "..                                                 ...  \n",
       "259                                                NaN  \n",
       "260                                                NaN  \n",
       "261                                                NaN  \n",
       "262  European microstate. Smallest country with a c...  \n",
       "263  European microstate. Smallest country in the w...  \n",
       "\n",
       "[264 rows x 7 columns]"
      ]
     },
     "execution_count": 22,
     "metadata": {},
     "output_type": "execute_result"
    }
   ],
   "source": [
    "toy[1]"
   ]
  },
  {
   "cell_type": "code",
   "execution_count": 25,
   "id": "10175d6c",
   "metadata": {},
   "outputs": [],
   "source": [
    "Joy = '''<?xml version='1.0' encoding='utf-8'?>\n",
    "<data xmlns=\"http://example.com\">\n",
    " <row>\n",
    "   <shape>square</shape>\n",
    "   <degrees>360</degrees>\n",
    "   <sides>4.0</sides>\n",
    "   <firstname>Krish</firstname>\n",
    " </row>\n",
    " <row>\n",
    "   <shape>circle</shape>\n",
    "   <degrees>360</degrees>\n",
    "   <sides/>\n",
    "   <firstname/>\n",
    " </row>\n",
    " <row>\n",
    "   <shape>triangle</shape>\n",
    "   <degrees>180</degrees>\n",
    "   <sides>3.0</sides>\n",
    "   <firstname/>\n",
    " </row>\n",
    "</data>'''"
   ]
  },
  {
   "cell_type": "code",
   "execution_count": 42,
   "id": "856076ec",
   "metadata": {},
   "outputs": [
    {
     "data": {
      "text/html": [
       "<div>\n",
       "<style scoped>\n",
       "    .dataframe tbody tr th:only-of-type {\n",
       "        vertical-align: middle;\n",
       "    }\n",
       "\n",
       "    .dataframe tbody tr th {\n",
       "        vertical-align: top;\n",
       "    }\n",
       "\n",
       "    .dataframe thead th {\n",
       "        text-align: right;\n",
       "    }\n",
       "</style>\n",
       "<table border=\"1\" class=\"dataframe\">\n",
       "  <thead>\n",
       "    <tr style=\"text-align: right;\">\n",
       "      <th></th>\n",
       "      <th>shape</th>\n",
       "      <th>degrees</th>\n",
       "      <th>sides</th>\n",
       "      <th>firstname</th>\n",
       "    </tr>\n",
       "  </thead>\n",
       "  <tbody>\n",
       "    <tr>\n",
       "      <th>0</th>\n",
       "      <td>square</td>\n",
       "      <td>360</td>\n",
       "      <td>4.0</td>\n",
       "      <td>Krish</td>\n",
       "    </tr>\n",
       "    <tr>\n",
       "      <th>1</th>\n",
       "      <td>circle</td>\n",
       "      <td>360</td>\n",
       "      <td>NaN</td>\n",
       "      <td>None</td>\n",
       "    </tr>\n",
       "    <tr>\n",
       "      <th>2</th>\n",
       "      <td>triangle</td>\n",
       "      <td>180</td>\n",
       "      <td>3.0</td>\n",
       "      <td>None</td>\n",
       "    </tr>\n",
       "  </tbody>\n",
       "</table>\n",
       "</div>"
      ],
      "text/plain": [
       "      shape  degrees  sides firstname\n",
       "0    square      360    4.0     Krish\n",
       "1    circle      360    NaN      None\n",
       "2  triangle      180    3.0      None"
      ]
     },
     "execution_count": 42,
     "metadata": {},
     "output_type": "execute_result"
    }
   ],
   "source": [
    "pd.read_xml(Joy)"
   ]
  },
  {
   "cell_type": "code",
   "execution_count": 32,
   "id": "b17d26ae",
   "metadata": {},
   "outputs": [],
   "source": [
    "xml = '''<?xml version='1.0' encoding='utf-8'?>\n",
    "<data>\n",
    "  <row shape=\"square\" degrees=\"360\" sides=\"4.0\" firstname=\"Krish\"/>\n",
    "  <row shape=\"circle\" degrees=\"360\" Pagal= \"mahapagal\"/>\n",
    "  <row shape=\"triangle\" degrees=\"180\" sides=\"3.0\" lastname=\"Naik\"/>\n",
    "</data>'''"
   ]
  },
  {
   "cell_type": "code",
   "execution_count": 33,
   "id": "bbb4a820",
   "metadata": {},
   "outputs": [
    {
     "data": {
      "text/html": [
       "<div>\n",
       "<style scoped>\n",
       "    .dataframe tbody tr th:only-of-type {\n",
       "        vertical-align: middle;\n",
       "    }\n",
       "\n",
       "    .dataframe tbody tr th {\n",
       "        vertical-align: top;\n",
       "    }\n",
       "\n",
       "    .dataframe thead th {\n",
       "        text-align: right;\n",
       "    }\n",
       "</style>\n",
       "<table border=\"1\" class=\"dataframe\">\n",
       "  <thead>\n",
       "    <tr style=\"text-align: right;\">\n",
       "      <th></th>\n",
       "      <th>shape</th>\n",
       "      <th>degrees</th>\n",
       "      <th>sides</th>\n",
       "      <th>firstname</th>\n",
       "      <th>Pagal</th>\n",
       "      <th>lastname</th>\n",
       "    </tr>\n",
       "  </thead>\n",
       "  <tbody>\n",
       "    <tr>\n",
       "      <th>0</th>\n",
       "      <td>square</td>\n",
       "      <td>360</td>\n",
       "      <td>4.0</td>\n",
       "      <td>Krish</td>\n",
       "      <td>None</td>\n",
       "      <td>None</td>\n",
       "    </tr>\n",
       "    <tr>\n",
       "      <th>1</th>\n",
       "      <td>circle</td>\n",
       "      <td>360</td>\n",
       "      <td>NaN</td>\n",
       "      <td>None</td>\n",
       "      <td>mahapagal</td>\n",
       "      <td>None</td>\n",
       "    </tr>\n",
       "    <tr>\n",
       "      <th>2</th>\n",
       "      <td>triangle</td>\n",
       "      <td>180</td>\n",
       "      <td>3.0</td>\n",
       "      <td>None</td>\n",
       "      <td>None</td>\n",
       "      <td>Naik</td>\n",
       "    </tr>\n",
       "  </tbody>\n",
       "</table>\n",
       "</div>"
      ],
      "text/plain": [
       "      shape  degrees  sides firstname      Pagal lastname\n",
       "0    square      360    4.0     Krish       None     None\n",
       "1    circle      360    NaN      None  mahapagal     None\n",
       "2  triangle      180    3.0      None       None     Naik"
      ]
     },
     "execution_count": 33,
     "metadata": {},
     "output_type": "execute_result"
    }
   ],
   "source": [
    "pd.read_xml(xml)"
   ]
  },
  {
   "cell_type": "code",
   "execution_count": 39,
   "id": "e5f16725",
   "metadata": {},
   "outputs": [],
   "source": [
    "xml = '''<?xml version='1.0' encoding='utf-8'?>\n",
    "<doc:data xmlns:doc=\"https://example.com\">\n",
    "  <doc:row>\n",
    "    <doc:shape>square</doc:shape>\n",
    "    <doc:degrees>360</doc:degrees>\n",
    "    <doc:sides>4.0</doc:sides>\n",
    "  </doc:row>\n",
    "  <doc:row>\n",
    "    <doc:shape>circle</doc:shape>\n",
    "    <doc:degrees>360</doc:degrees>\n",
    "    <doc:sides/>\n",
    "  </doc:row>\n",
    "  <doc:row>\n",
    "    <doc:shape>triangle</doc:shape>\n",
    "    <doc:degrees>180</doc:degrees>\n",
    "    <doc:sides>3.0</doc:sides>\n",
    "  </doc:row>\n",
    "</doc:data>'''"
   ]
  },
  {
   "cell_type": "code",
   "execution_count": 46,
   "id": "cf3400d0",
   "metadata": {},
   "outputs": [],
   "source": [
    "jpy=pd.read_xml(xml,xpath=\".//doc:row\",namespaces={\"doc\": \"https://example.com\"})"
   ]
  },
  {
   "cell_type": "code",
   "execution_count": 47,
   "id": "40f4a568",
   "metadata": {},
   "outputs": [
    {
     "data": {
      "text/html": [
       "<div>\n",
       "<style scoped>\n",
       "    .dataframe tbody tr th:only-of-type {\n",
       "        vertical-align: middle;\n",
       "    }\n",
       "\n",
       "    .dataframe tbody tr th {\n",
       "        vertical-align: top;\n",
       "    }\n",
       "\n",
       "    .dataframe thead th {\n",
       "        text-align: right;\n",
       "    }\n",
       "</style>\n",
       "<table border=\"1\" class=\"dataframe\">\n",
       "  <thead>\n",
       "    <tr style=\"text-align: right;\">\n",
       "      <th></th>\n",
       "      <th>shape</th>\n",
       "      <th>degrees</th>\n",
       "      <th>sides</th>\n",
       "    </tr>\n",
       "  </thead>\n",
       "  <tbody>\n",
       "    <tr>\n",
       "      <th>0</th>\n",
       "      <td>square</td>\n",
       "      <td>360</td>\n",
       "      <td>4.0</td>\n",
       "    </tr>\n",
       "    <tr>\n",
       "      <th>1</th>\n",
       "      <td>circle</td>\n",
       "      <td>360</td>\n",
       "      <td>NaN</td>\n",
       "    </tr>\n",
       "    <tr>\n",
       "      <th>2</th>\n",
       "      <td>triangle</td>\n",
       "      <td>180</td>\n",
       "      <td>3.0</td>\n",
       "    </tr>\n",
       "  </tbody>\n",
       "</table>\n",
       "</div>"
      ],
      "text/plain": [
       "      shape  degrees  sides\n",
       "0    square      360    4.0\n",
       "1    circle      360    NaN\n",
       "2  triangle      180    3.0"
      ]
     },
     "execution_count": 47,
     "metadata": {},
     "output_type": "execute_result"
    }
   ],
   "source": [
    "jpy"
   ]
  },
  {
   "cell_type": "code",
   "execution_count": 48,
   "id": "a0f852a7",
   "metadata": {},
   "outputs": [],
   "source": [
    "jpy.to_xml('goo.xml')"
   ]
  },
  {
   "cell_type": "code",
   "execution_count": 49,
   "id": "fe95ea99",
   "metadata": {},
   "outputs": [],
   "source": [
    "import seaborn as sns"
   ]
  },
  {
   "cell_type": "code",
   "execution_count": 55,
   "id": "f6013960",
   "metadata": {},
   "outputs": [],
   "source": [
    "df= sns.load_dataset('tips')"
   ]
  },
  {
   "cell_type": "code",
   "execution_count": 61,
   "id": "a8ac6392",
   "metadata": {},
   "outputs": [
    {
     "data": {
      "text/html": [
       "<div>\n",
       "<style scoped>\n",
       "    .dataframe tbody tr th:only-of-type {\n",
       "        vertical-align: middle;\n",
       "    }\n",
       "\n",
       "    .dataframe tbody tr th {\n",
       "        vertical-align: top;\n",
       "    }\n",
       "\n",
       "    .dataframe thead th {\n",
       "        text-align: right;\n",
       "    }\n",
       "</style>\n",
       "<table border=\"1\" class=\"dataframe\">\n",
       "  <thead>\n",
       "    <tr style=\"text-align: right;\">\n",
       "      <th></th>\n",
       "      <th>total_bill</th>\n",
       "      <th>tip</th>\n",
       "      <th>sex</th>\n",
       "      <th>smoker</th>\n",
       "      <th>day</th>\n",
       "      <th>time</th>\n",
       "      <th>size</th>\n",
       "    </tr>\n",
       "  </thead>\n",
       "  <tbody>\n",
       "    <tr>\n",
       "      <th>239</th>\n",
       "      <td>29.03</td>\n",
       "      <td>5.92</td>\n",
       "      <td>Male</td>\n",
       "      <td>No</td>\n",
       "      <td>Sat</td>\n",
       "      <td>Dinner</td>\n",
       "      <td>3</td>\n",
       "    </tr>\n",
       "    <tr>\n",
       "      <th>240</th>\n",
       "      <td>27.18</td>\n",
       "      <td>2.00</td>\n",
       "      <td>Female</td>\n",
       "      <td>Yes</td>\n",
       "      <td>Sat</td>\n",
       "      <td>Dinner</td>\n",
       "      <td>2</td>\n",
       "    </tr>\n",
       "    <tr>\n",
       "      <th>241</th>\n",
       "      <td>22.67</td>\n",
       "      <td>2.00</td>\n",
       "      <td>Male</td>\n",
       "      <td>Yes</td>\n",
       "      <td>Sat</td>\n",
       "      <td>Dinner</td>\n",
       "      <td>2</td>\n",
       "    </tr>\n",
       "    <tr>\n",
       "      <th>242</th>\n",
       "      <td>17.82</td>\n",
       "      <td>1.75</td>\n",
       "      <td>Male</td>\n",
       "      <td>No</td>\n",
       "      <td>Sat</td>\n",
       "      <td>Dinner</td>\n",
       "      <td>2</td>\n",
       "    </tr>\n",
       "    <tr>\n",
       "      <th>243</th>\n",
       "      <td>18.78</td>\n",
       "      <td>3.00</td>\n",
       "      <td>Female</td>\n",
       "      <td>No</td>\n",
       "      <td>Thur</td>\n",
       "      <td>Dinner</td>\n",
       "      <td>2</td>\n",
       "    </tr>\n",
       "  </tbody>\n",
       "</table>\n",
       "</div>"
      ],
      "text/plain": [
       "     total_bill   tip     sex smoker   day    time  size\n",
       "239       29.03  5.92    Male     No   Sat  Dinner     3\n",
       "240       27.18  2.00  Female    Yes   Sat  Dinner     2\n",
       "241       22.67  2.00    Male    Yes   Sat  Dinner     2\n",
       "242       17.82  1.75    Male     No   Sat  Dinner     2\n",
       "243       18.78  3.00  Female     No  Thur  Dinner     2"
      ]
     },
     "execution_count": 61,
     "metadata": {},
     "output_type": "execute_result"
    }
   ],
   "source": [
    "df.tail()"
   ]
  },
  {
   "cell_type": "code",
   "execution_count": 57,
   "id": "13f0f807",
   "metadata": {},
   "outputs": [],
   "source": [
    "import pickle"
   ]
  },
  {
   "cell_type": "code",
   "execution_count": 59,
   "id": "3685a19e",
   "metadata": {},
   "outputs": [],
   "source": [
    "filename= 'joy.pkl'"
   ]
  },
  {
   "cell_type": "code",
   "execution_count": 64,
   "id": "22c3afe5",
   "metadata": {},
   "outputs": [],
   "source": [
    "pickle.dump(df,open(filename,'wb'))"
   ]
  },
  {
   "cell_type": "code",
   "execution_count": 68,
   "id": "96cd0589",
   "metadata": {},
   "outputs": [
    {
     "data": {
      "text/html": [
       "<div>\n",
       "<style scoped>\n",
       "    .dataframe tbody tr th:only-of-type {\n",
       "        vertical-align: middle;\n",
       "    }\n",
       "\n",
       "    .dataframe tbody tr th {\n",
       "        vertical-align: top;\n",
       "    }\n",
       "\n",
       "    .dataframe thead th {\n",
       "        text-align: right;\n",
       "    }\n",
       "</style>\n",
       "<table border=\"1\" class=\"dataframe\">\n",
       "  <thead>\n",
       "    <tr style=\"text-align: right;\">\n",
       "      <th></th>\n",
       "      <th>total_bill</th>\n",
       "      <th>tip</th>\n",
       "      <th>sex</th>\n",
       "      <th>smoker</th>\n",
       "      <th>day</th>\n",
       "      <th>time</th>\n",
       "      <th>size</th>\n",
       "    </tr>\n",
       "  </thead>\n",
       "  <tbody>\n",
       "    <tr>\n",
       "      <th>0</th>\n",
       "      <td>16.99</td>\n",
       "      <td>1.01</td>\n",
       "      <td>Female</td>\n",
       "      <td>No</td>\n",
       "      <td>Sun</td>\n",
       "      <td>Dinner</td>\n",
       "      <td>2</td>\n",
       "    </tr>\n",
       "    <tr>\n",
       "      <th>1</th>\n",
       "      <td>10.34</td>\n",
       "      <td>1.66</td>\n",
       "      <td>Male</td>\n",
       "      <td>No</td>\n",
       "      <td>Sun</td>\n",
       "      <td>Dinner</td>\n",
       "      <td>3</td>\n",
       "    </tr>\n",
       "    <tr>\n",
       "      <th>2</th>\n",
       "      <td>21.01</td>\n",
       "      <td>3.50</td>\n",
       "      <td>Male</td>\n",
       "      <td>No</td>\n",
       "      <td>Sun</td>\n",
       "      <td>Dinner</td>\n",
       "      <td>3</td>\n",
       "    </tr>\n",
       "    <tr>\n",
       "      <th>3</th>\n",
       "      <td>23.68</td>\n",
       "      <td>3.31</td>\n",
       "      <td>Male</td>\n",
       "      <td>No</td>\n",
       "      <td>Sun</td>\n",
       "      <td>Dinner</td>\n",
       "      <td>2</td>\n",
       "    </tr>\n",
       "    <tr>\n",
       "      <th>4</th>\n",
       "      <td>24.59</td>\n",
       "      <td>3.61</td>\n",
       "      <td>Female</td>\n",
       "      <td>No</td>\n",
       "      <td>Sun</td>\n",
       "      <td>Dinner</td>\n",
       "      <td>4</td>\n",
       "    </tr>\n",
       "  </tbody>\n",
       "</table>\n",
       "</div>"
      ],
      "text/plain": [
       "   total_bill   tip     sex smoker  day    time  size\n",
       "0       16.99  1.01  Female     No  Sun  Dinner     2\n",
       "1       10.34  1.66    Male     No  Sun  Dinner     3\n",
       "2       21.01  3.50    Male     No  Sun  Dinner     3\n",
       "3       23.68  3.31    Male     No  Sun  Dinner     2\n",
       "4       24.59  3.61  Female     No  Sun  Dinner     4"
      ]
     },
     "execution_count": 68,
     "metadata": {},
     "output_type": "execute_result"
    }
   ],
   "source": [
    "pickle.load(open(filename,'rb')).head()"
   ]
  },
  {
   "cell_type": "code",
   "execution_count": null,
   "id": "6cc40d51",
   "metadata": {},
   "outputs": [],
   "source": []
  },
  {
   "cell_type": "code",
   "execution_count": 82,
   "id": "8ba28354",
   "metadata": {},
   "outputs": [],
   "source": [
    "def welcome(): \n",
    "    return \"jai ho\""
   ]
  },
  {
   "cell_type": "code",
   "execution_count": null,
   "id": "87f1f504",
   "metadata": {},
   "outputs": [],
   "source": []
  },
  {
   "cell_type": "code",
   "execution_count": 83,
   "id": "3be8c47b",
   "metadata": {},
   "outputs": [],
   "source": [
    "msg= welcome()"
   ]
  },
  {
   "cell_type": "code",
   "execution_count": 84,
   "id": "d0f6ea53",
   "metadata": {},
   "outputs": [
    {
     "name": "stdout",
     "output_type": "stream",
     "text": [
      "jai ho\n"
     ]
    }
   ],
   "source": [
    "print(msg)"
   ]
  },
  {
   "cell_type": "code",
   "execution_count": 73,
   "id": "073be63f",
   "metadata": {},
   "outputs": [
    {
     "name": "stdout",
     "output_type": "stream",
     "text": [
      "jai ho\n"
     ]
    }
   ],
   "source": [
    "welcome()"
   ]
  },
  {
   "cell_type": "code",
   "execution_count": 93,
   "id": "c82e7fa6",
   "metadata": {},
   "outputs": [
    {
     "name": "stdout",
     "output_type": "stream",
     "text": [
      "88 741\n"
     ]
    }
   ],
   "source": [
    "def even_odd_sum(lst):\n",
    "    \"\"\"\n",
    "    Description: This function will add even and odd number in a list\n",
    "    Return : This function will return the sum of even and odd number in a list\n",
    "    \"\"\"\n",
    "\n",
    "    even_sum=0\n",
    "    odd_sum=0\n",
    "    for i in lst:\n",
    "        if i%2==0:\n",
    "            even_sum+=i\n",
    "        else:\n",
    "            odd_sum+=i\n",
    "    return even_sum,odd_sum\n",
    "\n",
    "\n",
    "a,b=even_odd_sum([1,2,3,45,6,677,7,8,8,54,4,3,5,6])\n",
    "print(a,b)\n"
   ]
  },
  {
   "cell_type": "code",
   "execution_count": 2,
   "id": "1486a9c5",
   "metadata": {},
   "outputs": [],
   "source": [
    "class Car:\n",
    "    pass\n"
   ]
  },
  {
   "cell_type": "code",
   "execution_count": 4,
   "id": "83024779",
   "metadata": {},
   "outputs": [],
   "source": [
    "car1= Car()\n",
    "car2= Car()"
   ]
  },
  {
   "cell_type": "code",
   "execution_count": 5,
   "id": "63335c0c",
   "metadata": {},
   "outputs": [
    {
     "name": "stdout",
     "output_type": "stream",
     "text": [
      "<__main__.Car object at 0x00000199F2CB1580>\n"
     ]
    }
   ],
   "source": [
    "print(car1)"
   ]
  },
  {
   "cell_type": "raw",
   "id": "00214167",
   "metadata": {},
   "source": [
    "def __init__(self,windows,tyres,engine)\n"
   ]
  },
  {
   "cell_type": "code",
   "execution_count": 15,
   "id": "ce762938",
   "metadata": {},
   "outputs": [],
   "source": [
    "class Car:\n",
    "    def __init__(self,windows,tyres,engine):\n",
    "         self.windows=windows\n",
    "         self.tyres=tyres\n",
    "         self.engine=engine\n",
    "   "
   ]
  },
  {
   "cell_type": "code",
   "execution_count": 16,
   "id": "bcf9885f",
   "metadata": {},
   "outputs": [],
   "source": [
    "car1=Car(8,5,\"diesel\")\n"
   ]
  },
  {
   "cell_type": "code",
   "execution_count": 20,
   "id": "b14e30c4",
   "metadata": {},
   "outputs": [
    {
     "name": "stdout",
     "output_type": "stream",
     "text": [
      "the no of tyres in car1 is 5\n"
     ]
    }
   ],
   "source": [
    "print(\"the no of tyres in car1 is {}\" .format(car1.tyres))"
   ]
  },
  {
   "cell_type": "code",
   "execution_count": 42,
   "id": "cb5e2fdd",
   "metadata": {},
   "outputs": [],
   "source": [
    "class animal:\n",
    "    def __init__(self,*args):\n",
    "        if len(args)==1 :\n",
    "            self.name= args[0]\n",
    "        elif len(args)==2:\n",
    "            self.name=args[0]\n",
    "            self.species=args[1]\n",
    "        elif len(args)==3:\n",
    "             self.name=args[0]\n",
    "             self.species=args[1]\n",
    "             self.age=args[2]\n",
    "        \n",
    "    "
   ]
  },
  {
   "cell_type": "code",
   "execution_count": 44,
   "id": "7b6350f4",
   "metadata": {},
   "outputs": [],
   "source": [
    "dog=animal(\"lara\",5)"
   ]
  },
  {
   "cell_type": "code",
   "execution_count": 45,
   "id": "65189fbe",
   "metadata": {},
   "outputs": [
    {
     "data": {
      "text/plain": [
       "'lara'"
      ]
     },
     "execution_count": 45,
     "metadata": {},
     "output_type": "execute_result"
    }
   ],
   "source": [
    "dog.name"
   ]
  },
  {
   "cell_type": "code",
   "execution_count": 47,
   "id": "e2702e43",
   "metadata": {},
   "outputs": [
    {
     "data": {
      "text/plain": [
       "5"
      ]
     },
     "execution_count": 47,
     "metadata": {},
     "output_type": "execute_result"
    }
   ],
   "source": [
    "dog.species"
   ]
  },
  {
   "cell_type": "code",
   "execution_count": 48,
   "id": "780fde3e",
   "metadata": {},
   "outputs": [
    {
     "name": "stdout",
     "output_type": "stream",
     "text": [
      "200\n",
      "4\n",
      "Car is ued for driving\n",
      "IT is a self driving car\n",
      "<__main__.Car object at 0x00000199F3DA17C0>\n",
      "<__main__.Audi object at 0x00000199F3F61D60>\n",
      "['__class__', '__delattr__', '__dict__', '__dir__', '__doc__', '__eq__', '__format__', '__ge__', '__getattribute__', '__gt__', '__hash__', '__init__', '__init_subclass__', '__le__', '__lt__', '__module__', '__ne__', '__new__', '__reduce__', '__reduce_ex__', '__repr__', '__setattr__', '__sizeof__', '__str__', '__subclasshook__', '__weakref__', 'doors', 'driving', 'enginetype', 'horsepower', 'selfdriving', 'windows']\n",
      "['__class__', '__delattr__', '__dict__', '__dir__', '__doc__', '__eq__', '__format__', '__ge__', '__getattribute__', '__gt__', '__hash__', '__init__', '__init_subclass__', '__le__', '__lt__', '__module__', '__ne__', '__new__', '__reduce__', '__reduce_ex__', '__repr__', '__setattr__', '__sizeof__', '__str__', '__subclasshook__', '__weakref__', 'doors', 'driving', 'enginetype', 'windows']\n"
     ]
    }
   ],
   "source": [
    "class Car:\n",
    "    def __init__(self,windows,doors,enginetype):\n",
    "        self.windows=windows\n",
    "        self.doors=doors\n",
    "        self.enginetype=enginetype\n",
    "\n",
    "    def driving(self):\n",
    "        print(\"Car is ued for driving\")\n",
    "\n",
    "##Audi car is inherting from Car class\n",
    "class Audi(Car):\n",
    "    def __init__(self,windows,doors,enginetype,horsepower):\n",
    "        super().__init__(windows,doors,enginetype)\n",
    "        self.horsepower=horsepower\n",
    "\n",
    "    def selfdriving(self):\n",
    "        print(\"IT is a self driving car\")\n",
    "\n",
    "\n",
    "audiq7=Audi(4,5,\"Diesel\",200)\n",
    "\n",
    "print(audiq7.horsepower)\n",
    "print(audiq7.windows)\n",
    "audiq7.driving()\n",
    "audiq7.selfdriving()\n",
    "\n",
    "car1=Car(4,5,\"Diesel\")\n",
    "print(car1)\n",
    "print(audiq7)\n",
    "\n",
    "print(dir(audiq7))\n",
    "print(dir(car1))\n"
   ]
  },
  {
   "cell_type": "code",
   "execution_count": null,
   "id": "ccf825ab",
   "metadata": {},
   "outputs": [],
   "source": [
    " \n",
    "    "
   ]
  },
  {
   "cell_type": "code",
   "execution_count": null,
   "id": "c8770aa2",
   "metadata": {},
   "outputs": [],
   "source": []
  },
  {
   "cell_type": "code",
   "execution_count": null,
   "id": "7214453d",
   "metadata": {},
   "outputs": [],
   "source": []
  },
  {
   "cell_type": "code",
   "execution_count": null,
   "id": "eae9aebc",
   "metadata": {},
   "outputs": [],
   "source": []
  },
  {
   "cell_type": "code",
   "execution_count": null,
   "id": "58a7ba8d",
   "metadata": {},
   "outputs": [],
   "source": []
  },
  {
   "cell_type": "code",
   "execution_count": null,
   "id": "7bcf50a2",
   "metadata": {},
   "outputs": [],
   "source": []
  },
  {
   "cell_type": "code",
   "execution_count": null,
   "id": "c47f5717",
   "metadata": {},
   "outputs": [],
   "source": []
  },
  {
   "cell_type": "code",
   "execution_count": null,
   "id": "7a79a24a",
   "metadata": {},
   "outputs": [],
   "source": []
  },
  {
   "cell_type": "code",
   "execution_count": null,
   "id": "fd6bc1c9",
   "metadata": {},
   "outputs": [],
   "source": []
  },
  {
   "cell_type": "code",
   "execution_count": null,
   "id": "2eece8f8",
   "metadata": {},
   "outputs": [],
   "source": []
  },
  {
   "cell_type": "code",
   "execution_count": null,
   "id": "b5cc6b87",
   "metadata": {},
   "outputs": [],
   "source": []
  },
  {
   "cell_type": "code",
   "execution_count": null,
   "id": "30e28ba7",
   "metadata": {},
   "outputs": [],
   "source": []
  },
  {
   "cell_type": "code",
   "execution_count": null,
   "id": "4fb09995",
   "metadata": {},
   "outputs": [],
   "source": []
  },
  {
   "cell_type": "code",
   "execution_count": null,
   "id": "8d1014f9",
   "metadata": {},
   "outputs": [],
   "source": []
  }
 ],
 "metadata": {
  "kernelspec": {
   "display_name": "Python 3 (ipykernel)",
   "language": "python",
   "name": "python3"
  },
  "language_info": {
   "codemirror_mode": {
    "name": "ipython",
    "version": 3
   },
   "file_extension": ".py",
   "mimetype": "text/x-python",
   "name": "python",
   "nbconvert_exporter": "python",
   "pygments_lexer": "ipython3",
   "version": "3.9.12"
  }
 },
 "nbformat": 4,
 "nbformat_minor": 5
}
